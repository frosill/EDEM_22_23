{
  "cells": [
    {
      "cell_type": "code",
      "execution_count": null,
      "metadata": {
        "id": "72IJkElzOrTX"
      },
      "outputs": [],
      "source": [
        "# Imports\n",
        "\n",
        "%matplotlib inline\n",
        "\n",
        "import matplotlib.pyplot as plt\n",
        "import pandas as pd\n",
        "import numpy as np\n",
        "import seaborn as sns\n",
        "import statistics\n",
        "import scipy.stats\n",
        "from numpy.lib.function_base import corrcoef\n",
        "import math"
      ]
    },
    {
      "cell_type": "markdown",
      "metadata": {
        "id": "at6jMTgfVGk9"
      },
      "source": [
        "# Leer CSV"
      ]
    },
    {
      "cell_type": "code",
      "execution_count": null,
      "metadata": {
        "colab": {
          "base_uri": "https://localhost:8080/",
          "height": 424
        },
        "id": "obQGZSLfPMng",
        "outputId": "c58529ad-ade1-488e-fd91-73787a525056"
      },
      "outputs": [
        {
          "output_type": "execute_result",
          "data": {
            "text/plain": [
              "       #                   Name   Type 1  Type 2  HP  Attack  Defense  \\\n",
              "0      1              Bulbasaur    Grass  Poison  45      49       49   \n",
              "1      2                Ivysaur    Grass  Poison  60      62       63   \n",
              "2      3               Venusaur    Grass  Poison  80      82       83   \n",
              "3      3  VenusaurMega Venusaur    Grass  Poison  80     100      123   \n",
              "4      4             Charmander     Fire     NaN  39      52       43   \n",
              "..   ...                    ...      ...     ...  ..     ...      ...   \n",
              "795  719                Diancie     Rock   Fairy  50     100      150   \n",
              "796  719    DiancieMega Diancie     Rock   Fairy  50     160      110   \n",
              "797  720    HoopaHoopa Confined  Psychic   Ghost  80     110       60   \n",
              "798  720     HoopaHoopa Unbound  Psychic    Dark  80     160       60   \n",
              "799  721              Volcanion     Fire   Water  80     110      120   \n",
              "\n",
              "     Sp. Atk  Sp. Def  Speed  Generation  Legendary  \n",
              "0         65       65     45           1      False  \n",
              "1         80       80     60           1      False  \n",
              "2        100      100     80           1      False  \n",
              "3        122      120     80           1      False  \n",
              "4         60       50     65           1      False  \n",
              "..       ...      ...    ...         ...        ...  \n",
              "795      100      150     50           6       True  \n",
              "796      160      110    110           6       True  \n",
              "797      150      130     70           6       True  \n",
              "798      170      130     80           6       True  \n",
              "799      130       90     70           6       True  \n",
              "\n",
              "[800 rows x 12 columns]"
            ],
            "text/html": [
              "\n",
              "  <div id=\"df-61679f49-882f-43e9-b374-7cced101a1fa\">\n",
              "    <div class=\"colab-df-container\">\n",
              "      <div>\n",
              "<style scoped>\n",
              "    .dataframe tbody tr th:only-of-type {\n",
              "        vertical-align: middle;\n",
              "    }\n",
              "\n",
              "    .dataframe tbody tr th {\n",
              "        vertical-align: top;\n",
              "    }\n",
              "\n",
              "    .dataframe thead th {\n",
              "        text-align: right;\n",
              "    }\n",
              "</style>\n",
              "<table border=\"1\" class=\"dataframe\">\n",
              "  <thead>\n",
              "    <tr style=\"text-align: right;\">\n",
              "      <th></th>\n",
              "      <th>#</th>\n",
              "      <th>Name</th>\n",
              "      <th>Type 1</th>\n",
              "      <th>Type 2</th>\n",
              "      <th>HP</th>\n",
              "      <th>Attack</th>\n",
              "      <th>Defense</th>\n",
              "      <th>Sp. Atk</th>\n",
              "      <th>Sp. Def</th>\n",
              "      <th>Speed</th>\n",
              "      <th>Generation</th>\n",
              "      <th>Legendary</th>\n",
              "    </tr>\n",
              "  </thead>\n",
              "  <tbody>\n",
              "    <tr>\n",
              "      <th>0</th>\n",
              "      <td>1</td>\n",
              "      <td>Bulbasaur</td>\n",
              "      <td>Grass</td>\n",
              "      <td>Poison</td>\n",
              "      <td>45</td>\n",
              "      <td>49</td>\n",
              "      <td>49</td>\n",
              "      <td>65</td>\n",
              "      <td>65</td>\n",
              "      <td>45</td>\n",
              "      <td>1</td>\n",
              "      <td>False</td>\n",
              "    </tr>\n",
              "    <tr>\n",
              "      <th>1</th>\n",
              "      <td>2</td>\n",
              "      <td>Ivysaur</td>\n",
              "      <td>Grass</td>\n",
              "      <td>Poison</td>\n",
              "      <td>60</td>\n",
              "      <td>62</td>\n",
              "      <td>63</td>\n",
              "      <td>80</td>\n",
              "      <td>80</td>\n",
              "      <td>60</td>\n",
              "      <td>1</td>\n",
              "      <td>False</td>\n",
              "    </tr>\n",
              "    <tr>\n",
              "      <th>2</th>\n",
              "      <td>3</td>\n",
              "      <td>Venusaur</td>\n",
              "      <td>Grass</td>\n",
              "      <td>Poison</td>\n",
              "      <td>80</td>\n",
              "      <td>82</td>\n",
              "      <td>83</td>\n",
              "      <td>100</td>\n",
              "      <td>100</td>\n",
              "      <td>80</td>\n",
              "      <td>1</td>\n",
              "      <td>False</td>\n",
              "    </tr>\n",
              "    <tr>\n",
              "      <th>3</th>\n",
              "      <td>3</td>\n",
              "      <td>VenusaurMega Venusaur</td>\n",
              "      <td>Grass</td>\n",
              "      <td>Poison</td>\n",
              "      <td>80</td>\n",
              "      <td>100</td>\n",
              "      <td>123</td>\n",
              "      <td>122</td>\n",
              "      <td>120</td>\n",
              "      <td>80</td>\n",
              "      <td>1</td>\n",
              "      <td>False</td>\n",
              "    </tr>\n",
              "    <tr>\n",
              "      <th>4</th>\n",
              "      <td>4</td>\n",
              "      <td>Charmander</td>\n",
              "      <td>Fire</td>\n",
              "      <td>NaN</td>\n",
              "      <td>39</td>\n",
              "      <td>52</td>\n",
              "      <td>43</td>\n",
              "      <td>60</td>\n",
              "      <td>50</td>\n",
              "      <td>65</td>\n",
              "      <td>1</td>\n",
              "      <td>False</td>\n",
              "    </tr>\n",
              "    <tr>\n",
              "      <th>...</th>\n",
              "      <td>...</td>\n",
              "      <td>...</td>\n",
              "      <td>...</td>\n",
              "      <td>...</td>\n",
              "      <td>...</td>\n",
              "      <td>...</td>\n",
              "      <td>...</td>\n",
              "      <td>...</td>\n",
              "      <td>...</td>\n",
              "      <td>...</td>\n",
              "      <td>...</td>\n",
              "      <td>...</td>\n",
              "    </tr>\n",
              "    <tr>\n",
              "      <th>795</th>\n",
              "      <td>719</td>\n",
              "      <td>Diancie</td>\n",
              "      <td>Rock</td>\n",
              "      <td>Fairy</td>\n",
              "      <td>50</td>\n",
              "      <td>100</td>\n",
              "      <td>150</td>\n",
              "      <td>100</td>\n",
              "      <td>150</td>\n",
              "      <td>50</td>\n",
              "      <td>6</td>\n",
              "      <td>True</td>\n",
              "    </tr>\n",
              "    <tr>\n",
              "      <th>796</th>\n",
              "      <td>719</td>\n",
              "      <td>DiancieMega Diancie</td>\n",
              "      <td>Rock</td>\n",
              "      <td>Fairy</td>\n",
              "      <td>50</td>\n",
              "      <td>160</td>\n",
              "      <td>110</td>\n",
              "      <td>160</td>\n",
              "      <td>110</td>\n",
              "      <td>110</td>\n",
              "      <td>6</td>\n",
              "      <td>True</td>\n",
              "    </tr>\n",
              "    <tr>\n",
              "      <th>797</th>\n",
              "      <td>720</td>\n",
              "      <td>HoopaHoopa Confined</td>\n",
              "      <td>Psychic</td>\n",
              "      <td>Ghost</td>\n",
              "      <td>80</td>\n",
              "      <td>110</td>\n",
              "      <td>60</td>\n",
              "      <td>150</td>\n",
              "      <td>130</td>\n",
              "      <td>70</td>\n",
              "      <td>6</td>\n",
              "      <td>True</td>\n",
              "    </tr>\n",
              "    <tr>\n",
              "      <th>798</th>\n",
              "      <td>720</td>\n",
              "      <td>HoopaHoopa Unbound</td>\n",
              "      <td>Psychic</td>\n",
              "      <td>Dark</td>\n",
              "      <td>80</td>\n",
              "      <td>160</td>\n",
              "      <td>60</td>\n",
              "      <td>170</td>\n",
              "      <td>130</td>\n",
              "      <td>80</td>\n",
              "      <td>6</td>\n",
              "      <td>True</td>\n",
              "    </tr>\n",
              "    <tr>\n",
              "      <th>799</th>\n",
              "      <td>721</td>\n",
              "      <td>Volcanion</td>\n",
              "      <td>Fire</td>\n",
              "      <td>Water</td>\n",
              "      <td>80</td>\n",
              "      <td>110</td>\n",
              "      <td>120</td>\n",
              "      <td>130</td>\n",
              "      <td>90</td>\n",
              "      <td>70</td>\n",
              "      <td>6</td>\n",
              "      <td>True</td>\n",
              "    </tr>\n",
              "  </tbody>\n",
              "</table>\n",
              "<p>800 rows × 12 columns</p>\n",
              "</div>\n",
              "      <button class=\"colab-df-convert\" onclick=\"convertToInteractive('df-61679f49-882f-43e9-b374-7cced101a1fa')\"\n",
              "              title=\"Convert this dataframe to an interactive table.\"\n",
              "              style=\"display:none;\">\n",
              "        \n",
              "  <svg xmlns=\"http://www.w3.org/2000/svg\" height=\"24px\"viewBox=\"0 0 24 24\"\n",
              "       width=\"24px\">\n",
              "    <path d=\"M0 0h24v24H0V0z\" fill=\"none\"/>\n",
              "    <path d=\"M18.56 5.44l.94 2.06.94-2.06 2.06-.94-2.06-.94-.94-2.06-.94 2.06-2.06.94zm-11 1L8.5 8.5l.94-2.06 2.06-.94-2.06-.94L8.5 2.5l-.94 2.06-2.06.94zm10 10l.94 2.06.94-2.06 2.06-.94-2.06-.94-.94-2.06-.94 2.06-2.06.94z\"/><path d=\"M17.41 7.96l-1.37-1.37c-.4-.4-.92-.59-1.43-.59-.52 0-1.04.2-1.43.59L10.3 9.45l-7.72 7.72c-.78.78-.78 2.05 0 2.83L4 21.41c.39.39.9.59 1.41.59.51 0 1.02-.2 1.41-.59l7.78-7.78 2.81-2.81c.8-.78.8-2.07 0-2.86zM5.41 20L4 18.59l7.72-7.72 1.47 1.35L5.41 20z\"/>\n",
              "  </svg>\n",
              "      </button>\n",
              "      \n",
              "  <style>\n",
              "    .colab-df-container {\n",
              "      display:flex;\n",
              "      flex-wrap:wrap;\n",
              "      gap: 12px;\n",
              "    }\n",
              "\n",
              "    .colab-df-convert {\n",
              "      background-color: #E8F0FE;\n",
              "      border: none;\n",
              "      border-radius: 50%;\n",
              "      cursor: pointer;\n",
              "      display: none;\n",
              "      fill: #1967D2;\n",
              "      height: 32px;\n",
              "      padding: 0 0 0 0;\n",
              "      width: 32px;\n",
              "    }\n",
              "\n",
              "    .colab-df-convert:hover {\n",
              "      background-color: #E2EBFA;\n",
              "      box-shadow: 0px 1px 2px rgba(60, 64, 67, 0.3), 0px 1px 3px 1px rgba(60, 64, 67, 0.15);\n",
              "      fill: #174EA6;\n",
              "    }\n",
              "\n",
              "    [theme=dark] .colab-df-convert {\n",
              "      background-color: #3B4455;\n",
              "      fill: #D2E3FC;\n",
              "    }\n",
              "\n",
              "    [theme=dark] .colab-df-convert:hover {\n",
              "      background-color: #434B5C;\n",
              "      box-shadow: 0px 1px 3px 1px rgba(0, 0, 0, 0.15);\n",
              "      filter: drop-shadow(0px 1px 2px rgba(0, 0, 0, 0.3));\n",
              "      fill: #FFFFFF;\n",
              "    }\n",
              "  </style>\n",
              "\n",
              "      <script>\n",
              "        const buttonEl =\n",
              "          document.querySelector('#df-61679f49-882f-43e9-b374-7cced101a1fa button.colab-df-convert');\n",
              "        buttonEl.style.display =\n",
              "          google.colab.kernel.accessAllowed ? 'block' : 'none';\n",
              "\n",
              "        async function convertToInteractive(key) {\n",
              "          const element = document.querySelector('#df-61679f49-882f-43e9-b374-7cced101a1fa');\n",
              "          const dataTable =\n",
              "            await google.colab.kernel.invokeFunction('convertToInteractive',\n",
              "                                                     [key], {});\n",
              "          if (!dataTable) return;\n",
              "\n",
              "          const docLinkHtml = 'Like what you see? Visit the ' +\n",
              "            '<a target=\"_blank\" href=https://colab.research.google.com/notebooks/data_table.ipynb>data table notebook</a>'\n",
              "            + ' to learn more about interactive tables.';\n",
              "          element.innerHTML = '';\n",
              "          dataTable['output_type'] = 'display_data';\n",
              "          await google.colab.output.renderOutput(dataTable, element);\n",
              "          const docLink = document.createElement('div');\n",
              "          docLink.innerHTML = docLinkHtml;\n",
              "          element.appendChild(docLink);\n",
              "        }\n",
              "      </script>\n",
              "    </div>\n",
              "  </div>\n",
              "  "
            ]
          },
          "metadata": {},
          "execution_count": 2
        }
      ],
      "source": [
        "pokemon_df = pd.read_csv(\"pokemon_data.csv\")\n",
        "\n",
        "pokemon_df"
      ]
    },
    {
      "cell_type": "markdown",
      "metadata": {
        "id": "lzefDk_tVBwM"
      },
      "source": [
        "# Quitar Megaevoluciones y calcular puntuación total"
      ]
    },
    {
      "cell_type": "code",
      "execution_count": null,
      "metadata": {
        "colab": {
          "base_uri": "https://localhost:8080/",
          "height": 424
        },
        "id": "_It_Q2aSUdS-",
        "outputId": "bdb1fd0a-f239-409b-97fa-b16be8a480e3"
      },
      "outputs": [
        {
          "output_type": "execute_result",
          "data": {
            "text/plain": [
              "       #                 Name   Type 1  Type 2   HP  Attack  Defense  Sp. Atk  \\\n",
              "0      1            Bulbasaur    Grass  Poison   45      49       49       65   \n",
              "1      2              Ivysaur    Grass  Poison   60      62       63       80   \n",
              "2      3             Venusaur    Grass  Poison   80      82       83      100   \n",
              "4      4           Charmander     Fire     NaN   39      52       43       60   \n",
              "5      5           Charmeleon     Fire     NaN   58      64       58       80   \n",
              "..   ...                  ...      ...     ...  ...     ...      ...      ...   \n",
              "794  718     Zygarde50% Forme   Dragon  Ground  108     100      121       81   \n",
              "795  719              Diancie     Rock   Fairy   50     100      150      100   \n",
              "797  720  HoopaHoopa Confined  Psychic   Ghost   80     110       60      150   \n",
              "798  720   HoopaHoopa Unbound  Psychic    Dark   80     160       60      170   \n",
              "799  721            Volcanion     Fire   Water   80     110      120      130   \n",
              "\n",
              "     Sp. Def  Speed  Generation  Legendary  Total  \n",
              "0         65     45           1      False    273  \n",
              "1         80     60           1      False    345  \n",
              "2        100     80           1      False    445  \n",
              "4         50     65           1      False    244  \n",
              "5         65     80           1      False    325  \n",
              "..       ...    ...         ...        ...    ...  \n",
              "794       95     95           6       True    505  \n",
              "795      150     50           6       True    550  \n",
              "797      130     70           6       True    530  \n",
              "798      130     80           6       True    600  \n",
              "799       90     70           6       True    530  \n",
              "\n",
              "[751 rows x 13 columns]"
            ],
            "text/html": [
              "\n",
              "  <div id=\"df-38a72814-e930-4961-a5e5-5be752e013e1\">\n",
              "    <div class=\"colab-df-container\">\n",
              "      <div>\n",
              "<style scoped>\n",
              "    .dataframe tbody tr th:only-of-type {\n",
              "        vertical-align: middle;\n",
              "    }\n",
              "\n",
              "    .dataframe tbody tr th {\n",
              "        vertical-align: top;\n",
              "    }\n",
              "\n",
              "    .dataframe thead th {\n",
              "        text-align: right;\n",
              "    }\n",
              "</style>\n",
              "<table border=\"1\" class=\"dataframe\">\n",
              "  <thead>\n",
              "    <tr style=\"text-align: right;\">\n",
              "      <th></th>\n",
              "      <th>#</th>\n",
              "      <th>Name</th>\n",
              "      <th>Type 1</th>\n",
              "      <th>Type 2</th>\n",
              "      <th>HP</th>\n",
              "      <th>Attack</th>\n",
              "      <th>Defense</th>\n",
              "      <th>Sp. Atk</th>\n",
              "      <th>Sp. Def</th>\n",
              "      <th>Speed</th>\n",
              "      <th>Generation</th>\n",
              "      <th>Legendary</th>\n",
              "      <th>Total</th>\n",
              "    </tr>\n",
              "  </thead>\n",
              "  <tbody>\n",
              "    <tr>\n",
              "      <th>0</th>\n",
              "      <td>1</td>\n",
              "      <td>Bulbasaur</td>\n",
              "      <td>Grass</td>\n",
              "      <td>Poison</td>\n",
              "      <td>45</td>\n",
              "      <td>49</td>\n",
              "      <td>49</td>\n",
              "      <td>65</td>\n",
              "      <td>65</td>\n",
              "      <td>45</td>\n",
              "      <td>1</td>\n",
              "      <td>False</td>\n",
              "      <td>273</td>\n",
              "    </tr>\n",
              "    <tr>\n",
              "      <th>1</th>\n",
              "      <td>2</td>\n",
              "      <td>Ivysaur</td>\n",
              "      <td>Grass</td>\n",
              "      <td>Poison</td>\n",
              "      <td>60</td>\n",
              "      <td>62</td>\n",
              "      <td>63</td>\n",
              "      <td>80</td>\n",
              "      <td>80</td>\n",
              "      <td>60</td>\n",
              "      <td>1</td>\n",
              "      <td>False</td>\n",
              "      <td>345</td>\n",
              "    </tr>\n",
              "    <tr>\n",
              "      <th>2</th>\n",
              "      <td>3</td>\n",
              "      <td>Venusaur</td>\n",
              "      <td>Grass</td>\n",
              "      <td>Poison</td>\n",
              "      <td>80</td>\n",
              "      <td>82</td>\n",
              "      <td>83</td>\n",
              "      <td>100</td>\n",
              "      <td>100</td>\n",
              "      <td>80</td>\n",
              "      <td>1</td>\n",
              "      <td>False</td>\n",
              "      <td>445</td>\n",
              "    </tr>\n",
              "    <tr>\n",
              "      <th>4</th>\n",
              "      <td>4</td>\n",
              "      <td>Charmander</td>\n",
              "      <td>Fire</td>\n",
              "      <td>NaN</td>\n",
              "      <td>39</td>\n",
              "      <td>52</td>\n",
              "      <td>43</td>\n",
              "      <td>60</td>\n",
              "      <td>50</td>\n",
              "      <td>65</td>\n",
              "      <td>1</td>\n",
              "      <td>False</td>\n",
              "      <td>244</td>\n",
              "    </tr>\n",
              "    <tr>\n",
              "      <th>5</th>\n",
              "      <td>5</td>\n",
              "      <td>Charmeleon</td>\n",
              "      <td>Fire</td>\n",
              "      <td>NaN</td>\n",
              "      <td>58</td>\n",
              "      <td>64</td>\n",
              "      <td>58</td>\n",
              "      <td>80</td>\n",
              "      <td>65</td>\n",
              "      <td>80</td>\n",
              "      <td>1</td>\n",
              "      <td>False</td>\n",
              "      <td>325</td>\n",
              "    </tr>\n",
              "    <tr>\n",
              "      <th>...</th>\n",
              "      <td>...</td>\n",
              "      <td>...</td>\n",
              "      <td>...</td>\n",
              "      <td>...</td>\n",
              "      <td>...</td>\n",
              "      <td>...</td>\n",
              "      <td>...</td>\n",
              "      <td>...</td>\n",
              "      <td>...</td>\n",
              "      <td>...</td>\n",
              "      <td>...</td>\n",
              "      <td>...</td>\n",
              "      <td>...</td>\n",
              "    </tr>\n",
              "    <tr>\n",
              "      <th>794</th>\n",
              "      <td>718</td>\n",
              "      <td>Zygarde50% Forme</td>\n",
              "      <td>Dragon</td>\n",
              "      <td>Ground</td>\n",
              "      <td>108</td>\n",
              "      <td>100</td>\n",
              "      <td>121</td>\n",
              "      <td>81</td>\n",
              "      <td>95</td>\n",
              "      <td>95</td>\n",
              "      <td>6</td>\n",
              "      <td>True</td>\n",
              "      <td>505</td>\n",
              "    </tr>\n",
              "    <tr>\n",
              "      <th>795</th>\n",
              "      <td>719</td>\n",
              "      <td>Diancie</td>\n",
              "      <td>Rock</td>\n",
              "      <td>Fairy</td>\n",
              "      <td>50</td>\n",
              "      <td>100</td>\n",
              "      <td>150</td>\n",
              "      <td>100</td>\n",
              "      <td>150</td>\n",
              "      <td>50</td>\n",
              "      <td>6</td>\n",
              "      <td>True</td>\n",
              "      <td>550</td>\n",
              "    </tr>\n",
              "    <tr>\n",
              "      <th>797</th>\n",
              "      <td>720</td>\n",
              "      <td>HoopaHoopa Confined</td>\n",
              "      <td>Psychic</td>\n",
              "      <td>Ghost</td>\n",
              "      <td>80</td>\n",
              "      <td>110</td>\n",
              "      <td>60</td>\n",
              "      <td>150</td>\n",
              "      <td>130</td>\n",
              "      <td>70</td>\n",
              "      <td>6</td>\n",
              "      <td>True</td>\n",
              "      <td>530</td>\n",
              "    </tr>\n",
              "    <tr>\n",
              "      <th>798</th>\n",
              "      <td>720</td>\n",
              "      <td>HoopaHoopa Unbound</td>\n",
              "      <td>Psychic</td>\n",
              "      <td>Dark</td>\n",
              "      <td>80</td>\n",
              "      <td>160</td>\n",
              "      <td>60</td>\n",
              "      <td>170</td>\n",
              "      <td>130</td>\n",
              "      <td>80</td>\n",
              "      <td>6</td>\n",
              "      <td>True</td>\n",
              "      <td>600</td>\n",
              "    </tr>\n",
              "    <tr>\n",
              "      <th>799</th>\n",
              "      <td>721</td>\n",
              "      <td>Volcanion</td>\n",
              "      <td>Fire</td>\n",
              "      <td>Water</td>\n",
              "      <td>80</td>\n",
              "      <td>110</td>\n",
              "      <td>120</td>\n",
              "      <td>130</td>\n",
              "      <td>90</td>\n",
              "      <td>70</td>\n",
              "      <td>6</td>\n",
              "      <td>True</td>\n",
              "      <td>530</td>\n",
              "    </tr>\n",
              "  </tbody>\n",
              "</table>\n",
              "<p>751 rows × 13 columns</p>\n",
              "</div>\n",
              "      <button class=\"colab-df-convert\" onclick=\"convertToInteractive('df-38a72814-e930-4961-a5e5-5be752e013e1')\"\n",
              "              title=\"Convert this dataframe to an interactive table.\"\n",
              "              style=\"display:none;\">\n",
              "        \n",
              "  <svg xmlns=\"http://www.w3.org/2000/svg\" height=\"24px\"viewBox=\"0 0 24 24\"\n",
              "       width=\"24px\">\n",
              "    <path d=\"M0 0h24v24H0V0z\" fill=\"none\"/>\n",
              "    <path d=\"M18.56 5.44l.94 2.06.94-2.06 2.06-.94-2.06-.94-.94-2.06-.94 2.06-2.06.94zm-11 1L8.5 8.5l.94-2.06 2.06-.94-2.06-.94L8.5 2.5l-.94 2.06-2.06.94zm10 10l.94 2.06.94-2.06 2.06-.94-2.06-.94-.94-2.06-.94 2.06-2.06.94z\"/><path d=\"M17.41 7.96l-1.37-1.37c-.4-.4-.92-.59-1.43-.59-.52 0-1.04.2-1.43.59L10.3 9.45l-7.72 7.72c-.78.78-.78 2.05 0 2.83L4 21.41c.39.39.9.59 1.41.59.51 0 1.02-.2 1.41-.59l7.78-7.78 2.81-2.81c.8-.78.8-2.07 0-2.86zM5.41 20L4 18.59l7.72-7.72 1.47 1.35L5.41 20z\"/>\n",
              "  </svg>\n",
              "      </button>\n",
              "      \n",
              "  <style>\n",
              "    .colab-df-container {\n",
              "      display:flex;\n",
              "      flex-wrap:wrap;\n",
              "      gap: 12px;\n",
              "    }\n",
              "\n",
              "    .colab-df-convert {\n",
              "      background-color: #E8F0FE;\n",
              "      border: none;\n",
              "      border-radius: 50%;\n",
              "      cursor: pointer;\n",
              "      display: none;\n",
              "      fill: #1967D2;\n",
              "      height: 32px;\n",
              "      padding: 0 0 0 0;\n",
              "      width: 32px;\n",
              "    }\n",
              "\n",
              "    .colab-df-convert:hover {\n",
              "      background-color: #E2EBFA;\n",
              "      box-shadow: 0px 1px 2px rgba(60, 64, 67, 0.3), 0px 1px 3px 1px rgba(60, 64, 67, 0.15);\n",
              "      fill: #174EA6;\n",
              "    }\n",
              "\n",
              "    [theme=dark] .colab-df-convert {\n",
              "      background-color: #3B4455;\n",
              "      fill: #D2E3FC;\n",
              "    }\n",
              "\n",
              "    [theme=dark] .colab-df-convert:hover {\n",
              "      background-color: #434B5C;\n",
              "      box-shadow: 0px 1px 3px 1px rgba(0, 0, 0, 0.15);\n",
              "      filter: drop-shadow(0px 1px 2px rgba(0, 0, 0, 0.3));\n",
              "      fill: #FFFFFF;\n",
              "    }\n",
              "  </style>\n",
              "\n",
              "      <script>\n",
              "        const buttonEl =\n",
              "          document.querySelector('#df-38a72814-e930-4961-a5e5-5be752e013e1 button.colab-df-convert');\n",
              "        buttonEl.style.display =\n",
              "          google.colab.kernel.accessAllowed ? 'block' : 'none';\n",
              "\n",
              "        async function convertToInteractive(key) {\n",
              "          const element = document.querySelector('#df-38a72814-e930-4961-a5e5-5be752e013e1');\n",
              "          const dataTable =\n",
              "            await google.colab.kernel.invokeFunction('convertToInteractive',\n",
              "                                                     [key], {});\n",
              "          if (!dataTable) return;\n",
              "\n",
              "          const docLinkHtml = 'Like what you see? Visit the ' +\n",
              "            '<a target=\"_blank\" href=https://colab.research.google.com/notebooks/data_table.ipynb>data table notebook</a>'\n",
              "            + ' to learn more about interactive tables.';\n",
              "          element.innerHTML = '';\n",
              "          dataTable['output_type'] = 'display_data';\n",
              "          await google.colab.output.renderOutput(dataTable, element);\n",
              "          const docLink = document.createElement('div');\n",
              "          docLink.innerHTML = docLinkHtml;\n",
              "          element.appendChild(docLink);\n",
              "        }\n",
              "      </script>\n",
              "    </div>\n",
              "  </div>\n",
              "  "
            ]
          },
          "metadata": {},
          "execution_count": 3
        }
      ],
      "source": [
        "pokemon_df.drop(pokemon_df[pokemon_df['Name'].str.contains('Mega')].index, inplace=True)\n",
        "\n",
        "pokemon_df['Total'] = pokemon_df.iloc[:,4:9].sum(axis=1)\n",
        "\n",
        "pokemon_df"
      ]
    },
    {
      "cell_type": "markdown",
      "metadata": {
        "id": "apjj9pIpU-3w"
      },
      "source": [
        "# Separar legendarios y no legendarios\n"
      ]
    },
    {
      "cell_type": "code",
      "execution_count": null,
      "metadata": {
        "id": "3n6hvfFvQ7fN"
      },
      "outputs": [],
      "source": [
        "grouped = pokemon_df.groupby(pokemon_df.Legendary)\n",
        "\n",
        "legendary_df  = grouped.get_group(True)\n",
        "non_legendary_df  = grouped.get_group(False)"
      ]
    },
    {
      "cell_type": "markdown",
      "metadata": {
        "id": "QIvrs8s1WeVz"
      },
      "source": [
        "# Legendarios"
      ]
    },
    {
      "cell_type": "code",
      "execution_count": null,
      "metadata": {
        "colab": {
          "base_uri": "https://localhost:8080/",
          "height": 206
        },
        "id": "1arF5QyqVUaX",
        "outputId": "343f5844-ea30-41a6-afd4-c8a5ffea31bb"
      },
      "outputs": [
        {
          "output_type": "execute_result",
          "data": {
            "text/plain": [
              "       #      Name    Type 1  Type 2   HP  Attack  Defense  Sp. Atk  Sp. Def  \\\n",
              "156  144  Articuno       Ice  Flying   90      85      100       95      125   \n",
              "157  145    Zapdos  Electric  Flying   90      90       85      125       90   \n",
              "158  146   Moltres      Fire  Flying   90     100       90      125       85   \n",
              "162  150    Mewtwo   Psychic     NaN  106     110       90      154       90   \n",
              "262  243    Raikou  Electric     NaN   90      85       75      115      100   \n",
              "\n",
              "     Speed  Generation  Legendary  Total  \n",
              "156     85           1       True    495  \n",
              "157    100           1       True    480  \n",
              "158     90           1       True    490  \n",
              "162    130           1       True    550  \n",
              "262    115           2       True    465  "
            ],
            "text/html": [
              "\n",
              "  <div id=\"df-9f993bd1-7848-437d-9621-44672061151a\">\n",
              "    <div class=\"colab-df-container\">\n",
              "      <div>\n",
              "<style scoped>\n",
              "    .dataframe tbody tr th:only-of-type {\n",
              "        vertical-align: middle;\n",
              "    }\n",
              "\n",
              "    .dataframe tbody tr th {\n",
              "        vertical-align: top;\n",
              "    }\n",
              "\n",
              "    .dataframe thead th {\n",
              "        text-align: right;\n",
              "    }\n",
              "</style>\n",
              "<table border=\"1\" class=\"dataframe\">\n",
              "  <thead>\n",
              "    <tr style=\"text-align: right;\">\n",
              "      <th></th>\n",
              "      <th>#</th>\n",
              "      <th>Name</th>\n",
              "      <th>Type 1</th>\n",
              "      <th>Type 2</th>\n",
              "      <th>HP</th>\n",
              "      <th>Attack</th>\n",
              "      <th>Defense</th>\n",
              "      <th>Sp. Atk</th>\n",
              "      <th>Sp. Def</th>\n",
              "      <th>Speed</th>\n",
              "      <th>Generation</th>\n",
              "      <th>Legendary</th>\n",
              "      <th>Total</th>\n",
              "    </tr>\n",
              "  </thead>\n",
              "  <tbody>\n",
              "    <tr>\n",
              "      <th>156</th>\n",
              "      <td>144</td>\n",
              "      <td>Articuno</td>\n",
              "      <td>Ice</td>\n",
              "      <td>Flying</td>\n",
              "      <td>90</td>\n",
              "      <td>85</td>\n",
              "      <td>100</td>\n",
              "      <td>95</td>\n",
              "      <td>125</td>\n",
              "      <td>85</td>\n",
              "      <td>1</td>\n",
              "      <td>True</td>\n",
              "      <td>495</td>\n",
              "    </tr>\n",
              "    <tr>\n",
              "      <th>157</th>\n",
              "      <td>145</td>\n",
              "      <td>Zapdos</td>\n",
              "      <td>Electric</td>\n",
              "      <td>Flying</td>\n",
              "      <td>90</td>\n",
              "      <td>90</td>\n",
              "      <td>85</td>\n",
              "      <td>125</td>\n",
              "      <td>90</td>\n",
              "      <td>100</td>\n",
              "      <td>1</td>\n",
              "      <td>True</td>\n",
              "      <td>480</td>\n",
              "    </tr>\n",
              "    <tr>\n",
              "      <th>158</th>\n",
              "      <td>146</td>\n",
              "      <td>Moltres</td>\n",
              "      <td>Fire</td>\n",
              "      <td>Flying</td>\n",
              "      <td>90</td>\n",
              "      <td>100</td>\n",
              "      <td>90</td>\n",
              "      <td>125</td>\n",
              "      <td>85</td>\n",
              "      <td>90</td>\n",
              "      <td>1</td>\n",
              "      <td>True</td>\n",
              "      <td>490</td>\n",
              "    </tr>\n",
              "    <tr>\n",
              "      <th>162</th>\n",
              "      <td>150</td>\n",
              "      <td>Mewtwo</td>\n",
              "      <td>Psychic</td>\n",
              "      <td>NaN</td>\n",
              "      <td>106</td>\n",
              "      <td>110</td>\n",
              "      <td>90</td>\n",
              "      <td>154</td>\n",
              "      <td>90</td>\n",
              "      <td>130</td>\n",
              "      <td>1</td>\n",
              "      <td>True</td>\n",
              "      <td>550</td>\n",
              "    </tr>\n",
              "    <tr>\n",
              "      <th>262</th>\n",
              "      <td>243</td>\n",
              "      <td>Raikou</td>\n",
              "      <td>Electric</td>\n",
              "      <td>NaN</td>\n",
              "      <td>90</td>\n",
              "      <td>85</td>\n",
              "      <td>75</td>\n",
              "      <td>115</td>\n",
              "      <td>100</td>\n",
              "      <td>115</td>\n",
              "      <td>2</td>\n",
              "      <td>True</td>\n",
              "      <td>465</td>\n",
              "    </tr>\n",
              "  </tbody>\n",
              "</table>\n",
              "</div>\n",
              "      <button class=\"colab-df-convert\" onclick=\"convertToInteractive('df-9f993bd1-7848-437d-9621-44672061151a')\"\n",
              "              title=\"Convert this dataframe to an interactive table.\"\n",
              "              style=\"display:none;\">\n",
              "        \n",
              "  <svg xmlns=\"http://www.w3.org/2000/svg\" height=\"24px\"viewBox=\"0 0 24 24\"\n",
              "       width=\"24px\">\n",
              "    <path d=\"M0 0h24v24H0V0z\" fill=\"none\"/>\n",
              "    <path d=\"M18.56 5.44l.94 2.06.94-2.06 2.06-.94-2.06-.94-.94-2.06-.94 2.06-2.06.94zm-11 1L8.5 8.5l.94-2.06 2.06-.94-2.06-.94L8.5 2.5l-.94 2.06-2.06.94zm10 10l.94 2.06.94-2.06 2.06-.94-2.06-.94-.94-2.06-.94 2.06-2.06.94z\"/><path d=\"M17.41 7.96l-1.37-1.37c-.4-.4-.92-.59-1.43-.59-.52 0-1.04.2-1.43.59L10.3 9.45l-7.72 7.72c-.78.78-.78 2.05 0 2.83L4 21.41c.39.39.9.59 1.41.59.51 0 1.02-.2 1.41-.59l7.78-7.78 2.81-2.81c.8-.78.8-2.07 0-2.86zM5.41 20L4 18.59l7.72-7.72 1.47 1.35L5.41 20z\"/>\n",
              "  </svg>\n",
              "      </button>\n",
              "      \n",
              "  <style>\n",
              "    .colab-df-container {\n",
              "      display:flex;\n",
              "      flex-wrap:wrap;\n",
              "      gap: 12px;\n",
              "    }\n",
              "\n",
              "    .colab-df-convert {\n",
              "      background-color: #E8F0FE;\n",
              "      border: none;\n",
              "      border-radius: 50%;\n",
              "      cursor: pointer;\n",
              "      display: none;\n",
              "      fill: #1967D2;\n",
              "      height: 32px;\n",
              "      padding: 0 0 0 0;\n",
              "      width: 32px;\n",
              "    }\n",
              "\n",
              "    .colab-df-convert:hover {\n",
              "      background-color: #E2EBFA;\n",
              "      box-shadow: 0px 1px 2px rgba(60, 64, 67, 0.3), 0px 1px 3px 1px rgba(60, 64, 67, 0.15);\n",
              "      fill: #174EA6;\n",
              "    }\n",
              "\n",
              "    [theme=dark] .colab-df-convert {\n",
              "      background-color: #3B4455;\n",
              "      fill: #D2E3FC;\n",
              "    }\n",
              "\n",
              "    [theme=dark] .colab-df-convert:hover {\n",
              "      background-color: #434B5C;\n",
              "      box-shadow: 0px 1px 3px 1px rgba(0, 0, 0, 0.15);\n",
              "      filter: drop-shadow(0px 1px 2px rgba(0, 0, 0, 0.3));\n",
              "      fill: #FFFFFF;\n",
              "    }\n",
              "  </style>\n",
              "\n",
              "      <script>\n",
              "        const buttonEl =\n",
              "          document.querySelector('#df-9f993bd1-7848-437d-9621-44672061151a button.colab-df-convert');\n",
              "        buttonEl.style.display =\n",
              "          google.colab.kernel.accessAllowed ? 'block' : 'none';\n",
              "\n",
              "        async function convertToInteractive(key) {\n",
              "          const element = document.querySelector('#df-9f993bd1-7848-437d-9621-44672061151a');\n",
              "          const dataTable =\n",
              "            await google.colab.kernel.invokeFunction('convertToInteractive',\n",
              "                                                     [key], {});\n",
              "          if (!dataTable) return;\n",
              "\n",
              "          const docLinkHtml = 'Like what you see? Visit the ' +\n",
              "            '<a target=\"_blank\" href=https://colab.research.google.com/notebooks/data_table.ipynb>data table notebook</a>'\n",
              "            + ' to learn more about interactive tables.';\n",
              "          element.innerHTML = '';\n",
              "          dataTable['output_type'] = 'display_data';\n",
              "          await google.colab.output.renderOutput(dataTable, element);\n",
              "          const docLink = document.createElement('div');\n",
              "          docLink.innerHTML = docLinkHtml;\n",
              "          element.appendChild(docLink);\n",
              "        }\n",
              "      </script>\n",
              "    </div>\n",
              "  </div>\n",
              "  "
            ]
          },
          "metadata": {},
          "execution_count": 5
        }
      ],
      "source": [
        "legendary_df.head(5)"
      ]
    },
    {
      "cell_type": "markdown",
      "metadata": {
        "id": "uU-JiNEXXTWn"
      },
      "source": [
        "# Porcentaje de pokemon legendarios de cada tipo"
      ]
    },
    {
      "cell_type": "code",
      "execution_count": null,
      "metadata": {
        "colab": {
          "base_uri": "https://localhost:8080/",
          "height": 551
        },
        "id": "WoXgwracQYO3",
        "outputId": "39dd252a-3fd1-4235-d0fe-5ee795952214"
      },
      "outputs": [
        {
          "output_type": "execute_result",
          "data": {
            "text/plain": [
              "col_0         count\n",
              "Type 1             \n",
              "Dark       3.389831\n",
              "Dragon    15.254237\n",
              "Electric   6.779661\n",
              "Fairy      1.694915\n",
              "Fire       8.474576\n",
              "Flying     3.389831\n",
              "Ghost      3.389831\n",
              "Grass      5.084746\n",
              "Ground     6.779661\n",
              "Ice        3.389831\n",
              "Normal     3.389831\n",
              "Psychic   20.338983\n",
              "Rock       5.084746\n",
              "Steel      6.779661\n",
              "Water      6.779661"
            ],
            "text/html": [
              "\n",
              "  <div id=\"df-876af8d5-ac68-4dc7-97a0-47156202a080\">\n",
              "    <div class=\"colab-df-container\">\n",
              "      <div>\n",
              "<style scoped>\n",
              "    .dataframe tbody tr th:only-of-type {\n",
              "        vertical-align: middle;\n",
              "    }\n",
              "\n",
              "    .dataframe tbody tr th {\n",
              "        vertical-align: top;\n",
              "    }\n",
              "\n",
              "    .dataframe thead th {\n",
              "        text-align: right;\n",
              "    }\n",
              "</style>\n",
              "<table border=\"1\" class=\"dataframe\">\n",
              "  <thead>\n",
              "    <tr style=\"text-align: right;\">\n",
              "      <th>col_0</th>\n",
              "      <th>count</th>\n",
              "    </tr>\n",
              "    <tr>\n",
              "      <th>Type 1</th>\n",
              "      <th></th>\n",
              "    </tr>\n",
              "  </thead>\n",
              "  <tbody>\n",
              "    <tr>\n",
              "      <th>Dark</th>\n",
              "      <td>3.389831</td>\n",
              "    </tr>\n",
              "    <tr>\n",
              "      <th>Dragon</th>\n",
              "      <td>15.254237</td>\n",
              "    </tr>\n",
              "    <tr>\n",
              "      <th>Electric</th>\n",
              "      <td>6.779661</td>\n",
              "    </tr>\n",
              "    <tr>\n",
              "      <th>Fairy</th>\n",
              "      <td>1.694915</td>\n",
              "    </tr>\n",
              "    <tr>\n",
              "      <th>Fire</th>\n",
              "      <td>8.474576</td>\n",
              "    </tr>\n",
              "    <tr>\n",
              "      <th>Flying</th>\n",
              "      <td>3.389831</td>\n",
              "    </tr>\n",
              "    <tr>\n",
              "      <th>Ghost</th>\n",
              "      <td>3.389831</td>\n",
              "    </tr>\n",
              "    <tr>\n",
              "      <th>Grass</th>\n",
              "      <td>5.084746</td>\n",
              "    </tr>\n",
              "    <tr>\n",
              "      <th>Ground</th>\n",
              "      <td>6.779661</td>\n",
              "    </tr>\n",
              "    <tr>\n",
              "      <th>Ice</th>\n",
              "      <td>3.389831</td>\n",
              "    </tr>\n",
              "    <tr>\n",
              "      <th>Normal</th>\n",
              "      <td>3.389831</td>\n",
              "    </tr>\n",
              "    <tr>\n",
              "      <th>Psychic</th>\n",
              "      <td>20.338983</td>\n",
              "    </tr>\n",
              "    <tr>\n",
              "      <th>Rock</th>\n",
              "      <td>5.084746</td>\n",
              "    </tr>\n",
              "    <tr>\n",
              "      <th>Steel</th>\n",
              "      <td>6.779661</td>\n",
              "    </tr>\n",
              "    <tr>\n",
              "      <th>Water</th>\n",
              "      <td>6.779661</td>\n",
              "    </tr>\n",
              "  </tbody>\n",
              "</table>\n",
              "</div>\n",
              "      <button class=\"colab-df-convert\" onclick=\"convertToInteractive('df-876af8d5-ac68-4dc7-97a0-47156202a080')\"\n",
              "              title=\"Convert this dataframe to an interactive table.\"\n",
              "              style=\"display:none;\">\n",
              "        \n",
              "  <svg xmlns=\"http://www.w3.org/2000/svg\" height=\"24px\"viewBox=\"0 0 24 24\"\n",
              "       width=\"24px\">\n",
              "    <path d=\"M0 0h24v24H0V0z\" fill=\"none\"/>\n",
              "    <path d=\"M18.56 5.44l.94 2.06.94-2.06 2.06-.94-2.06-.94-.94-2.06-.94 2.06-2.06.94zm-11 1L8.5 8.5l.94-2.06 2.06-.94-2.06-.94L8.5 2.5l-.94 2.06-2.06.94zm10 10l.94 2.06.94-2.06 2.06-.94-2.06-.94-.94-2.06-.94 2.06-2.06.94z\"/><path d=\"M17.41 7.96l-1.37-1.37c-.4-.4-.92-.59-1.43-.59-.52 0-1.04.2-1.43.59L10.3 9.45l-7.72 7.72c-.78.78-.78 2.05 0 2.83L4 21.41c.39.39.9.59 1.41.59.51 0 1.02-.2 1.41-.59l7.78-7.78 2.81-2.81c.8-.78.8-2.07 0-2.86zM5.41 20L4 18.59l7.72-7.72 1.47 1.35L5.41 20z\"/>\n",
              "  </svg>\n",
              "      </button>\n",
              "      \n",
              "  <style>\n",
              "    .colab-df-container {\n",
              "      display:flex;\n",
              "      flex-wrap:wrap;\n",
              "      gap: 12px;\n",
              "    }\n",
              "\n",
              "    .colab-df-convert {\n",
              "      background-color: #E8F0FE;\n",
              "      border: none;\n",
              "      border-radius: 50%;\n",
              "      cursor: pointer;\n",
              "      display: none;\n",
              "      fill: #1967D2;\n",
              "      height: 32px;\n",
              "      padding: 0 0 0 0;\n",
              "      width: 32px;\n",
              "    }\n",
              "\n",
              "    .colab-df-convert:hover {\n",
              "      background-color: #E2EBFA;\n",
              "      box-shadow: 0px 1px 2px rgba(60, 64, 67, 0.3), 0px 1px 3px 1px rgba(60, 64, 67, 0.15);\n",
              "      fill: #174EA6;\n",
              "    }\n",
              "\n",
              "    [theme=dark] .colab-df-convert {\n",
              "      background-color: #3B4455;\n",
              "      fill: #D2E3FC;\n",
              "    }\n",
              "\n",
              "    [theme=dark] .colab-df-convert:hover {\n",
              "      background-color: #434B5C;\n",
              "      box-shadow: 0px 1px 3px 1px rgba(0, 0, 0, 0.15);\n",
              "      filter: drop-shadow(0px 1px 2px rgba(0, 0, 0, 0.3));\n",
              "      fill: #FFFFFF;\n",
              "    }\n",
              "  </style>\n",
              "\n",
              "      <script>\n",
              "        const buttonEl =\n",
              "          document.querySelector('#df-876af8d5-ac68-4dc7-97a0-47156202a080 button.colab-df-convert');\n",
              "        buttonEl.style.display =\n",
              "          google.colab.kernel.accessAllowed ? 'block' : 'none';\n",
              "\n",
              "        async function convertToInteractive(key) {\n",
              "          const element = document.querySelector('#df-876af8d5-ac68-4dc7-97a0-47156202a080');\n",
              "          const dataTable =\n",
              "            await google.colab.kernel.invokeFunction('convertToInteractive',\n",
              "                                                     [key], {});\n",
              "          if (!dataTable) return;\n",
              "\n",
              "          const docLinkHtml = 'Like what you see? Visit the ' +\n",
              "            '<a target=\"_blank\" href=https://colab.research.google.com/notebooks/data_table.ipynb>data table notebook</a>'\n",
              "            + ' to learn more about interactive tables.';\n",
              "          element.innerHTML = '';\n",
              "          dataTable['output_type'] = 'display_data';\n",
              "          await google.colab.output.renderOutput(dataTable, element);\n",
              "          const docLink = document.createElement('div');\n",
              "          docLink.innerHTML = docLinkHtml;\n",
              "          element.appendChild(docLink);\n",
              "        }\n",
              "      </script>\n",
              "    </div>\n",
              "  </div>\n",
              "  "
            ]
          },
          "metadata": {},
          "execution_count": 6
        }
      ],
      "source": [
        "tab = pd.crosstab(index=legendary_df['Type 1'], columns='count')\n",
        "\n",
        "porcentajes = (tab/tab.sum())*100\n",
        "\n",
        "porcentajes"
      ]
    },
    {
      "cell_type": "markdown",
      "metadata": {
        "id": "ACUXL_R1X-v9"
      },
      "source": [
        "# Ploteamos en grafico de sectores"
      ]
    },
    {
      "cell_type": "code",
      "execution_count": null,
      "metadata": {
        "colab": {
          "base_uri": "https://localhost:8080/",
          "height": 482
        },
        "id": "k-HVvo5VX-Bb",
        "outputId": "381e548f-1c61-4a62-b020-d4ba115dac40"
      },
      "outputs": [
        {
          "output_type": "display_data",
          "data": {
            "text/plain": [
              "<Figure size 576x576 with 1 Axes>"
            ],
            "image/png": "[encoded data removed]"
          },
          "metadata": {}
        }
      ],
      "source": [
        "#define Seaborn color palette to use\n",
        "\n",
        "colors = sns.color_palette('pastel')[0:5]\n",
        "\n",
        "#create pie chart\n",
        "plt.figure(figsize=(8,8))\n",
        "plt.title('Porcentaje de tipos de pokemon legendarios')\n",
        "plt.pie(porcentajes['count'], labels = porcentajes.index, colors = colors, autopct='%.0f%%')\n",
        "plt.show()"
      ]
    },
    {
      "cell_type": "code",
      "execution_count": null,
      "metadata": {
        "colab": {
          "base_uri": "https://localhost:8080/",
          "height": 300
        },
        "id": "-Q-M_Z3gbh9h",
        "outputId": "cb129b96-cc14-434a-df32-256c1570c267"
      },
      "outputs": [
        {
          "output_type": "execute_result",
          "data": {
            "text/plain": [
              "                #          HP      Attack     Defense     Sp. Atk     Sp. Def  \\\n",
              "count   59.000000   59.000000   59.000000   59.000000   59.000000   59.000000   \n",
              "mean   481.355932   93.237288  113.118644   99.627119  117.864407  104.847458   \n",
              "std    167.747631   21.786851   27.968014   29.270968   28.806404   29.562799   \n",
              "min    144.000000   50.000000   50.000000   20.000000   50.000000   20.000000   \n",
              "25%    382.000000   80.000000   92.500000   87.500000  100.000000   90.000000   \n",
              "50%    485.000000   91.000000  110.000000   95.000000  120.000000  100.000000   \n",
              "75%    642.000000  102.500000  129.500000  117.500000  133.000000  120.000000   \n",
              "max    721.000000  150.000000  180.000000  200.000000  180.000000  200.000000   \n",
              "\n",
              "            Speed  Generation       Total  \n",
              "count   59.000000   59.000000   59.000000  \n",
              "mean    98.254237    3.864407  528.694915  \n",
              "std     22.936639    1.395283   57.782665  \n",
              "min     50.000000    1.000000  420.000000  \n",
              "25%     90.000000    3.000000  480.000000  \n",
              "50%     95.000000    4.000000  510.000000  \n",
              "75%    109.000000    5.000000  580.500000  \n",
              "max    180.000000    6.000000  680.000000  "
            ],
            "text/html": [
              "\n",
              "  <div id=\"df-705febcb-d7cd-47f2-b09f-afc64a9346df\">\n",
              "    <div class=\"colab-df-container\">\n",
              "      <div>\n",
              "<style scoped>\n",
              "    .dataframe tbody tr th:only-of-type {\n",
              "        vertical-align: middle;\n",
              "    }\n",
              "\n",
              "    .dataframe tbody tr th {\n",
              "        vertical-align: top;\n",
              "    }\n",
              "\n",
              "    .dataframe thead th {\n",
              "        text-align: right;\n",
              "    }\n",
              "</style>\n",
              "<table border=\"1\" class=\"dataframe\">\n",
              "  <thead>\n",
              "    <tr style=\"text-align: right;\">\n",
              "      <th></th>\n",
              "      <th>#</th>\n",
              "      <th>HP</th>\n",
              "      <th>Attack</th>\n",
              "      <th>Defense</th>\n",
              "      <th>Sp. Atk</th>\n",
              "      <th>Sp. Def</th>\n",
              "      <th>Speed</th>\n",
              "      <th>Generation</th>\n",
              "      <th>Total</th>\n",
              "    </tr>\n",
              "  </thead>\n",
              "  <tbody>\n",
              "    <tr>\n",
              "      <th>count</th>\n",
              "      <td>59.000000</td>\n",
              "      <td>59.000000</td>\n",
              "      <td>59.000000</td>\n",
              "      <td>59.000000</td>\n",
              "      <td>59.000000</td>\n",
              "      <td>59.000000</td>\n",
              "      <td>59.000000</td>\n",
              "      <td>59.000000</td>\n",
              "      <td>59.000000</td>\n",
              "    </tr>\n",
              "    <tr>\n",
              "      <th>mean</th>\n",
              "      <td>481.355932</td>\n",
              "      <td>93.237288</td>\n",
              "      <td>113.118644</td>\n",
              "      <td>99.627119</td>\n",
              "      <td>117.864407</td>\n",
              "      <td>104.847458</td>\n",
              "      <td>98.254237</td>\n",
              "      <td>3.864407</td>\n",
              "      <td>528.694915</td>\n",
              "    </tr>\n",
              "    <tr>\n",
              "      <th>std</th>\n",
              "      <td>167.747631</td>\n",
              "      <td>21.786851</td>\n",
              "      <td>27.968014</td>\n",
              "      <td>29.270968</td>\n",
              "      <td>28.806404</td>\n",
              "      <td>29.562799</td>\n",
              "      <td>22.936639</td>\n",
              "      <td>1.395283</td>\n",
              "      <td>57.782665</td>\n",
              "    </tr>\n",
              "    <tr>\n",
              "      <th>min</th>\n",
              "      <td>144.000000</td>\n",
              "      <td>50.000000</td>\n",
              "      <td>50.000000</td>\n",
              "      <td>20.000000</td>\n",
              "      <td>50.000000</td>\n",
              "      <td>20.000000</td>\n",
              "      <td>50.000000</td>\n",
              "      <td>1.000000</td>\n",
              "      <td>420.000000</td>\n",
              "    </tr>\n",
              "    <tr>\n",
              "      <th>25%</th>\n",
              "      <td>382.000000</td>\n",
              "      <td>80.000000</td>\n",
              "      <td>92.500000</td>\n",
              "      <td>87.500000</td>\n",
              "      <td>100.000000</td>\n",
              "      <td>90.000000</td>\n",
              "      <td>90.000000</td>\n",
              "      <td>3.000000</td>\n",
              "      <td>480.000000</td>\n",
              "    </tr>\n",
              "    <tr>\n",
              "      <th>50%</th>\n",
              "      <td>485.000000</td>\n",
              "      <td>91.000000</td>\n",
              "      <td>110.000000</td>\n",
              "      <td>95.000000</td>\n",
              "      <td>120.000000</td>\n",
              "      <td>100.000000</td>\n",
              "      <td>95.000000</td>\n",
              "      <td>4.000000</td>\n",
              "      <td>510.000000</td>\n",
              "    </tr>\n",
              "    <tr>\n",
              "      <th>75%</th>\n",
              "      <td>642.000000</td>\n",
              "      <td>102.500000</td>\n",
              "      <td>129.500000</td>\n",
              "      <td>117.500000</td>\n",
              "      <td>133.000000</td>\n",
              "      <td>120.000000</td>\n",
              "      <td>109.000000</td>\n",
              "      <td>5.000000</td>\n",
              "      <td>580.500000</td>\n",
              "    </tr>\n",
              "    <tr>\n",
              "      <th>max</th>\n",
              "      <td>721.000000</td>\n",
              "      <td>150.000000</td>\n",
              "      <td>180.000000</td>\n",
              "      <td>200.000000</td>\n",
              "      <td>180.000000</td>\n",
              "      <td>200.000000</td>\n",
              "      <td>180.000000</td>\n",
              "      <td>6.000000</td>\n",
              "      <td>680.000000</td>\n",
              "    </tr>\n",
              "  </tbody>\n",
              "</table>\n",
              "</div>\n",
              "      <button class=\"colab-df-convert\" onclick=\"convertToInteractive('df-705febcb-d7cd-47f2-b09f-afc64a9346df')\"\n",
              "              title=\"Convert this dataframe to an interactive table.\"\n",
              "              style=\"display:none;\">\n",
              "        \n",
              "  <svg xmlns=\"http://www.w3.org/2000/svg\" height=\"24px\"viewBox=\"0 0 24 24\"\n",
              "       width=\"24px\">\n",
              "    <path d=\"M0 0h24v24H0V0z\" fill=\"none\"/>\n",
              "    <path d=\"M18.56 5.44l.94 2.06.94-2.06 2.06-.94-2.06-.94-.94-2.06-.94 2.06-2.06.94zm-11 1L8.5 8.5l.94-2.06 2.06-.94-2.06-.94L8.5 2.5l-.94 2.06-2.06.94zm10 10l.94 2.06.94-2.06 2.06-.94-2.06-.94-.94-2.06-.94 2.06-2.06.94z\"/><path d=\"M17.41 7.96l-1.37-1.37c-.4-.4-.92-.59-1.43-.59-.52 0-1.04.2-1.43.59L10.3 9.45l-7.72 7.72c-.78.78-.78 2.05 0 2.83L4 21.41c.39.39.9.59 1.41.59.51 0 1.02-.2 1.41-.59l7.78-7.78 2.81-2.81c.8-.78.8-2.07 0-2.86zM5.41 20L4 18.59l7.72-7.72 1.47 1.35L5.41 20z\"/>\n",
              "  </svg>\n",
              "      </button>\n",
              "      \n",
              "  <style>\n",
              "    .colab-df-container {\n",
              "      display:flex;\n",
              "      flex-wrap:wrap;\n",
              "      gap: 12px;\n",
              "    }\n",
              "\n",
              "    .colab-df-convert {\n",
              "      background-color: #E8F0FE;\n",
              "      border: none;\n",
              "      border-radius: 50%;\n",
              "      cursor: pointer;\n",
              "      display: none;\n",
              "      fill: #1967D2;\n",
              "      height: 32px;\n",
              "      padding: 0 0 0 0;\n",
              "      width: 32px;\n",
              "    }\n",
              "\n",
              "    .colab-df-convert:hover {\n",
              "      background-color: #E2EBFA;\n",
              "      box-shadow: 0px 1px 2px rgba(60, 64, 67, 0.3), 0px 1px 3px 1px rgba(60, 64, 67, 0.15);\n",
              "      fill: #174EA6;\n",
              "    }\n",
              "\n",
              "    [theme=dark] .colab-df-convert {\n",
              "      background-color: #3B4455;\n",
              "      fill: #D2E3FC;\n",
              "    }\n",
              "\n",
              "    [theme=dark] .colab-df-convert:hover {\n",
              "      background-color: #434B5C;\n",
              "      box-shadow: 0px 1px 3px 1px rgba(0, 0, 0, 0.15);\n",
              "      filter: drop-shadow(0px 1px 2px rgba(0, 0, 0, 0.3));\n",
              "      fill: #FFFFFF;\n",
              "    }\n",
              "  </style>\n",
              "\n",
              "      <script>\n",
              "        const buttonEl =\n",
              "          document.querySelector('#df-705febcb-d7cd-47f2-b09f-afc64a9346df button.colab-df-convert');\n",
              "        buttonEl.style.display =\n",
              "          google.colab.kernel.accessAllowed ? 'block' : 'none';\n",
              "\n",
              "        async function convertToInteractive(key) {\n",
              "          const element = document.querySelector('#df-705febcb-d7cd-47f2-b09f-afc64a9346df');\n",
              "          const dataTable =\n",
              "            await google.colab.kernel.invokeFunction('convertToInteractive',\n",
              "                                                     [key], {});\n",
              "          if (!dataTable) return;\n",
              "\n",
              "          const docLinkHtml = 'Like what you see? Visit the ' +\n",
              "            '<a target=\"_blank\" href=https://colab.research.google.com/notebooks/data_table.ipynb>data table notebook</a>'\n",
              "            + ' to learn more about interactive tables.';\n",
              "          element.innerHTML = '';\n",
              "          dataTable['output_type'] = 'display_data';\n",
              "          await google.colab.output.renderOutput(dataTable, element);\n",
              "          const docLink = document.createElement('div');\n",
              "          docLink.innerHTML = docLinkHtml;\n",
              "          element.appendChild(docLink);\n",
              "        }\n",
              "      </script>\n",
              "    </div>\n",
              "  </div>\n",
              "  "
            ]
          },
          "metadata": {},
          "execution_count": 8
        }
      ],
      "source": [
        "legendary_df.describe()"
      ]
    },
    {
      "cell_type": "markdown",
      "metadata": {
        "id": "vrGUEK4obJbZ"
      },
      "source": [
        "# Box plot total"
      ]
    },
    {
      "cell_type": "code",
      "execution_count": null,
      "metadata": {
        "colab": {
          "base_uri": "https://localhost:8080/",
          "height": 500
        },
        "id": "8tIPTM2lbI4b",
        "outputId": "c1c841df-c693-4b84-a71a-4ce062c0f123"
      },
      "outputs": [
        {
          "output_type": "execute_result",
          "data": {
            "text/plain": [
              "<AxesSubplot:>"
            ]
          },
          "metadata": {},
          "execution_count": 9
        },
        {
          "output_type": "display_data",
          "data": {
            "text/plain": [
              "<Figure size 576x576 with 1 Axes>"
            ],
            "image/png": "[encoded data removed]"
          },
          "metadata": {
            "needs_background": "light"
          }
        }
      ],
      "source": [
        "plt.figure(figsize=(8,8))\n",
        "\n",
        "legendary_df.boxplot('Total')"
      ]
    },
    {
      "cell_type": "code",
      "execution_count": null,
      "metadata": {
        "colab": {
          "base_uri": "https://localhost:8080/",
          "height": 500
        },
        "id": "jZbWWKtyeZcw",
        "outputId": "03af661e-982f-4301-b1cc-6f2096ed36c0"
      },
      "outputs": [
        {
          "output_type": "execute_result",
          "data": {
            "text/plain": [
              "<AxesSubplot:>"
            ]
          },
          "metadata": {},
          "execution_count": 10
        },
        {
          "output_type": "display_data",
          "data": {
            "text/plain": [
              "<Figure size 576x576 with 1 Axes>"
            ],
            "image/png": "[encoded data removed]"
          },
          "metadata": {
            "needs_background": "light"
          }
        }
      ],
      "source": [
        "plt.figure(figsize=(8,8))\n",
        "legendary_df.boxplot(column=[\"Attack\",\"Defense\",\"Sp. Atk\",\"Sp. Def\",\"Speed\"])"
      ]
    },
    {
      "cell_type": "markdown",
      "metadata": {
        "id": "iY9wVjPAgA_P"
      },
      "source": [
        "# Scatter plot legendarios\n"
      ]
    },
    {
      "cell_type": "code",
      "execution_count": null,
      "metadata": {
        "colab": {
          "base_uri": "https://localhost:8080/",
          "height": 518
        },
        "id": "hxEKkGe3f-d5",
        "outputId": "a7d4c9d4-5722-4d75-a03b-f1f5330e0aa6"
      },
      "outputs": [
        {
          "output_type": "execute_result",
          "data": {
            "text/plain": [
              "array([[1.        , 0.49505373],\n",
              "       [0.49505373, 1.        ]])"
            ]
          },
          "metadata": {},
          "execution_count": 11
        },
        {
          "output_type": "display_data",
          "data": {
            "text/plain": [
              "<Figure size 576x576 with 1 Axes>"
            ],
            "image/png": "[encoded data removed]"
          },
          "metadata": {
            "needs_background": "light"
          }
        }
      ],
      "source": [
        "plt.figure(figsize=(8,8))\n",
        "\n",
        "plt.scatter(legendary_df[\"Attack\"],legendary_df[\"Sp. Atk\"])\n",
        "corrcoef(legendary_df[\"Attack\"],legendary_df[\"Sp. Atk\"])"
      ]
    },
    {
      "cell_type": "code",
      "execution_count": null,
      "metadata": {
        "colab": {
          "base_uri": "https://localhost:8080/",
          "height": 518
        },
        "id": "Nkd8yZOzhgcP",
        "outputId": "2711883a-5b30-4359-af4a-b0e8c6084f96"
      },
      "outputs": [
        {
          "output_type": "execute_result",
          "data": {
            "text/plain": [
              "array([[1.        , 0.38182772],\n",
              "       [0.38182772, 1.        ]])"
            ]
          },
          "metadata": {},
          "execution_count": 12
        },
        {
          "output_type": "display_data",
          "data": {
            "text/plain": [
              "<Figure size 576x576 with 1 Axes>"
            ],
            "image/png": "[encoded data removed]"
          },
          "metadata": {
            "needs_background": "light"
          }
        }
      ],
      "source": [
        "plt.figure(figsize=(8,8))\n",
        "\n",
        "plt.scatter(legendary_df[\"Defense\"],legendary_df[\"Sp. Def\"])\n",
        "corrcoef(legendary_df[\"Defense\"],legendary_df[\"Sp. Def\"])"
      ]
    },
    {
      "cell_type": "markdown",
      "metadata": {
        "id": "VoORJ-Cek59c"
      },
      "source": [
        "# Top 5"
      ]
    },
    {
      "cell_type": "code",
      "execution_count": null,
      "metadata": {
        "colab": {
          "base_uri": "https://localhost:8080/",
          "height": 206
        },
        "id": "nUmW_wq0jfFd",
        "outputId": "df06e05d-5754-4f35-b04b-cd987ee5dc79"
      },
      "outputs": [
        {
          "output_type": "execute_result",
          "data": {
            "text/plain": [
              "       #                   Name   Type 1 Type 2   HP  Attack  Defense  \\\n",
              "424  383  GroudonPrimal Groudon   Ground   Fire  100     180      160   \n",
              "422  382    KyogrePrimal Kyogre    Water    NaN  100     150       90   \n",
              "711  646     KyuremBlack Kyurem   Dragon    Ice  125     170      100   \n",
              "712  646     KyuremWhite Kyurem   Dragon    Ice  125     120       90   \n",
              "798  720     HoopaHoopa Unbound  Psychic   Dark   80     160       60   \n",
              "\n",
              "     Sp. Atk  Sp. Def  Speed  Generation  Legendary  Total  \n",
              "424      150       90     90           3       True    680  \n",
              "422      180      160     90           3       True    680  \n",
              "711      120       90     95           5       True    605  \n",
              "712      170      100     95           5       True    605  \n",
              "798      170      130     80           6       True    600  "
            ],
            "text/html": [
              "\n",
              "  <div id=\"df-3fbdd516-87cf-4302-b0d7-99990a370b86\">\n",
              "    <div class=\"colab-df-container\">\n",
              "      <div>\n",
              "<style scoped>\n",
              "    .dataframe tbody tr th:only-of-type {\n",
              "        vertical-align: middle;\n",
              "    }\n",
              "\n",
              "    .dataframe tbody tr th {\n",
              "        vertical-align: top;\n",
              "    }\n",
              "\n",
              "    .dataframe thead th {\n",
              "        text-align: right;\n",
              "    }\n",
              "</style>\n",
              "<table border=\"1\" class=\"dataframe\">\n",
              "  <thead>\n",
              "    <tr style=\"text-align: right;\">\n",
              "      <th></th>\n",
              "      <th>#</th>\n",
              "      <th>Name</th>\n",
              "      <th>Type 1</th>\n",
              "      <th>Type 2</th>\n",
              "      <th>HP</th>\n",
              "      <th>Attack</th>\n",
              "      <th>Defense</th>\n",
              "      <th>Sp. Atk</th>\n",
              "      <th>Sp. Def</th>\n",
              "      <th>Speed</th>\n",
              "      <th>Generation</th>\n",
              "      <th>Legendary</th>\n",
              "      <th>Total</th>\n",
              "    </tr>\n",
              "  </thead>\n",
              "  <tbody>\n",
              "    <tr>\n",
              "      <th>424</th>\n",
              "      <td>383</td>\n",
              "      <td>GroudonPrimal Groudon</td>\n",
              "      <td>Ground</td>\n",
              "      <td>Fire</td>\n",
              "      <td>100</td>\n",
              "      <td>180</td>\n",
              "      <td>160</td>\n",
              "      <td>150</td>\n",
              "      <td>90</td>\n",
              "      <td>90</td>\n",
              "      <td>3</td>\n",
              "      <td>True</td>\n",
              "      <td>680</td>\n",
              "    </tr>\n",
              "    <tr>\n",
              "      <th>422</th>\n",
              "      <td>382</td>\n",
              "      <td>KyogrePrimal Kyogre</td>\n",
              "      <td>Water</td>\n",
              "      <td>NaN</td>\n",
              "      <td>100</td>\n",
              "      <td>150</td>\n",
              "      <td>90</td>\n",
              "      <td>180</td>\n",
              "      <td>160</td>\n",
              "      <td>90</td>\n",
              "      <td>3</td>\n",
              "      <td>True</td>\n",
              "      <td>680</td>\n",
              "    </tr>\n",
              "    <tr>\n",
              "      <th>711</th>\n",
              "      <td>646</td>\n",
              "      <td>KyuremBlack Kyurem</td>\n",
              "      <td>Dragon</td>\n",
              "      <td>Ice</td>\n",
              "      <td>125</td>\n",
              "      <td>170</td>\n",
              "      <td>100</td>\n",
              "      <td>120</td>\n",
              "      <td>90</td>\n",
              "      <td>95</td>\n",
              "      <td>5</td>\n",
              "      <td>True</td>\n",
              "      <td>605</td>\n",
              "    </tr>\n",
              "    <tr>\n",
              "      <th>712</th>\n",
              "      <td>646</td>\n",
              "      <td>KyuremWhite Kyurem</td>\n",
              "      <td>Dragon</td>\n",
              "      <td>Ice</td>\n",
              "      <td>125</td>\n",
              "      <td>120</td>\n",
              "      <td>90</td>\n",
              "      <td>170</td>\n",
              "      <td>100</td>\n",
              "      <td>95</td>\n",
              "      <td>5</td>\n",
              "      <td>True</td>\n",
              "      <td>605</td>\n",
              "    </tr>\n",
              "    <tr>\n",
              "      <th>798</th>\n",
              "      <td>720</td>\n",
              "      <td>HoopaHoopa Unbound</td>\n",
              "      <td>Psychic</td>\n",
              "      <td>Dark</td>\n",
              "      <td>80</td>\n",
              "      <td>160</td>\n",
              "      <td>60</td>\n",
              "      <td>170</td>\n",
              "      <td>130</td>\n",
              "      <td>80</td>\n",
              "      <td>6</td>\n",
              "      <td>True</td>\n",
              "      <td>600</td>\n",
              "    </tr>\n",
              "  </tbody>\n",
              "</table>\n",
              "</div>\n",
              "      <button class=\"colab-df-convert\" onclick=\"convertToInteractive('df-3fbdd516-87cf-4302-b0d7-99990a370b86')\"\n",
              "              title=\"Convert this dataframe to an interactive table.\"\n",
              "              style=\"display:none;\">\n",
              "        \n",
              "  <svg xmlns=\"http://www.w3.org/2000/svg\" height=\"24px\"viewBox=\"0 0 24 24\"\n",
              "       width=\"24px\">\n",
              "    <path d=\"M0 0h24v24H0V0z\" fill=\"none\"/>\n",
              "    <path d=\"M18.56 5.44l.94 2.06.94-2.06 2.06-.94-2.06-.94-.94-2.06-.94 2.06-2.06.94zm-11 1L8.5 8.5l.94-2.06 2.06-.94-2.06-.94L8.5 2.5l-.94 2.06-2.06.94zm10 10l.94 2.06.94-2.06 2.06-.94-2.06-.94-.94-2.06-.94 2.06-2.06.94z\"/><path d=\"M17.41 7.96l-1.37-1.37c-.4-.4-.92-.59-1.43-.59-.52 0-1.04.2-1.43.59L10.3 9.45l-7.72 7.72c-.78.78-.78 2.05 0 2.83L4 21.41c.39.39.9.59 1.41.59.51 0 1.02-.2 1.41-.59l7.78-7.78 2.81-2.81c.8-.78.8-2.07 0-2.86zM5.41 20L4 18.59l7.72-7.72 1.47 1.35L5.41 20z\"/>\n",
              "  </svg>\n",
              "      </button>\n",
              "      \n",
              "  <style>\n",
              "    .colab-df-container {\n",
              "      display:flex;\n",
              "      flex-wrap:wrap;\n",
              "      gap: 12px;\n",
              "    }\n",
              "\n",
              "    .colab-df-convert {\n",
              "      background-color: #E8F0FE;\n",
              "      border: none;\n",
              "      border-radius: 50%;\n",
              "      cursor: pointer;\n",
              "      display: none;\n",
              "      fill: #1967D2;\n",
              "      height: 32px;\n",
              "      padding: 0 0 0 0;\n",
              "      width: 32px;\n",
              "    }\n",
              "\n",
              "    .colab-df-convert:hover {\n",
              "      background-color: #E2EBFA;\n",
              "      box-shadow: 0px 1px 2px rgba(60, 64, 67, 0.3), 0px 1px 3px 1px rgba(60, 64, 67, 0.15);\n",
              "      fill: #174EA6;\n",
              "    }\n",
              "\n",
              "    [theme=dark] .colab-df-convert {\n",
              "      background-color: #3B4455;\n",
              "      fill: #D2E3FC;\n",
              "    }\n",
              "\n",
              "    [theme=dark] .colab-df-convert:hover {\n",
              "      background-color: #434B5C;\n",
              "      box-shadow: 0px 1px 3px 1px rgba(0, 0, 0, 0.15);\n",
              "      filter: drop-shadow(0px 1px 2px rgba(0, 0, 0, 0.3));\n",
              "      fill: #FFFFFF;\n",
              "    }\n",
              "  </style>\n",
              "\n",
              "      <script>\n",
              "        const buttonEl =\n",
              "          document.querySelector('#df-3fbdd516-87cf-4302-b0d7-99990a370b86 button.colab-df-convert');\n",
              "        buttonEl.style.display =\n",
              "          google.colab.kernel.accessAllowed ? 'block' : 'none';\n",
              "\n",
              "        async function convertToInteractive(key) {\n",
              "          const element = document.querySelector('#df-3fbdd516-87cf-4302-b0d7-99990a370b86');\n",
              "          const dataTable =\n",
              "            await google.colab.kernel.invokeFunction('convertToInteractive',\n",
              "                                                     [key], {});\n",
              "          if (!dataTable) return;\n",
              "\n",
              "          const docLinkHtml = 'Like what you see? Visit the ' +\n",
              "            '<a target=\"_blank\" href=https://colab.research.google.com/notebooks/data_table.ipynb>data table notebook</a>'\n",
              "            + ' to learn more about interactive tables.';\n",
              "          element.innerHTML = '';\n",
              "          dataTable['output_type'] = 'display_data';\n",
              "          await google.colab.output.renderOutput(dataTable, element);\n",
              "          const docLink = document.createElement('div');\n",
              "          docLink.innerHTML = docLinkHtml;\n",
              "          element.appendChild(docLink);\n",
              "        }\n",
              "      </script>\n",
              "    </div>\n",
              "  </div>\n",
              "  "
            ]
          },
          "metadata": {},
          "execution_count": 17
        }
      ],
      "source": [
        "top_legendaries = legendary_df.sort_values('Total', ascending=False).head(5)\n",
        "\n",
        "top_legendaries"
      ]
    },
    {
      "cell_type": "code",
      "execution_count": null,
      "metadata": {
        "colab": {
          "base_uri": "https://localhost:8080/",
          "height": 513
        },
        "id": "MoS_mhQujs2i",
        "outputId": "e9e47862-39ff-4fc4-d5ab-5f75f0fd015d"
      },
      "outputs": [
        {
          "output_type": "display_data",
          "data": {
            "text/plain": [
              "<Figure size 576x576 with 1 Axes>"
            ],
            "image/png": "[encoded data removed]"
          },
          "metadata": {
            "needs_background": "light"
          }
        }
      ],
      "source": [
        "plt.figure(figsize=(8,8))\n",
        "\n",
        "plt.bar(top_legendaries['Name'], top_legendaries['Total'])\n",
        "plt.xlabel('Nombre del Pokémon')\n",
        "plt.ylabel('Puntuación total')\n",
        "plt.title('Top 5 de Pokémon legendarios')\n",
        "plt.show()"
      ]
    },
    {
      "cell_type": "markdown",
      "metadata": {
        "id": "vbXCZtIhj8fh"
      },
      "source": [
        "# No legendarios"
      ]
    },
    {
      "cell_type": "markdown",
      "metadata": {
        "id": "z8Ro5PyXkAs9"
      },
      "source": [
        "# Sacar porcentaje de tipo"
      ]
    },
    {
      "cell_type": "code",
      "execution_count": null,
      "metadata": {
        "colab": {
          "base_uri": "https://localhost:8080/",
          "height": 645
        },
        "id": "lXrINjWnmEt_",
        "outputId": "d218a280-ced1-41ea-f5f3-44470c8a6186"
      },
      "outputs": [
        {
          "output_type": "execute_result",
          "data": {
            "text/plain": [
              "col_0         count\n",
              "Type 1             \n",
              "Bug        9.393064\n",
              "Dark       3.757225\n",
              "Dragon     2.456647\n",
              "Electric   5.491329\n",
              "Fairy      2.312139\n",
              "Fighting   3.612717\n",
              "Fire       6.213873\n",
              "Flying     0.289017\n",
              "Ghost      4.046243\n",
              "Grass      9.104046\n",
              "Ground     4.046243\n",
              "Ice        3.034682\n",
              "Normal    13.294798\n",
              "Poison     4.046243\n",
              "Psychic    5.780347\n",
              "Rock       5.491329\n",
              "Steel      2.745665\n",
              "Water     14.884393"
            ],
            "text/html": [
              "\n",
              "  <div id=\"df-a1e0c3a2-cfa2-4a5e-9b44-c5f9e6b52db3\">\n",
              "    <div class=\"colab-df-container\">\n",
              "      <div>\n",
              "<style scoped>\n",
              "    .dataframe tbody tr th:only-of-type {\n",
              "        vertical-align: middle;\n",
              "    }\n",
              "\n",
              "    .dataframe tbody tr th {\n",
              "        vertical-align: top;\n",
              "    }\n",
              "\n",
              "    .dataframe thead th {\n",
              "        text-align: right;\n",
              "    }\n",
              "</style>\n",
              "<table border=\"1\" class=\"dataframe\">\n",
              "  <thead>\n",
              "    <tr style=\"text-align: right;\">\n",
              "      <th>col_0</th>\n",
              "      <th>count</th>\n",
              "    </tr>\n",
              "    <tr>\n",
              "      <th>Type 1</th>\n",
              "      <th></th>\n",
              "    </tr>\n",
              "  </thead>\n",
              "  <tbody>\n",
              "    <tr>\n",
              "      <th>Bug</th>\n",
              "      <td>9.393064</td>\n",
              "    </tr>\n",
              "    <tr>\n",
              "      <th>Dark</th>\n",
              "      <td>3.757225</td>\n",
              "    </tr>\n",
              "    <tr>\n",
              "      <th>Dragon</th>\n",
              "      <td>2.456647</td>\n",
              "    </tr>\n",
              "    <tr>\n",
              "      <th>Electric</th>\n",
              "      <td>5.491329</td>\n",
              "    </tr>\n",
              "    <tr>\n",
              "      <th>Fairy</th>\n",
              "      <td>2.312139</td>\n",
              "    </tr>\n",
              "    <tr>\n",
              "      <th>Fighting</th>\n",
              "      <td>3.612717</td>\n",
              "    </tr>\n",
              "    <tr>\n",
              "      <th>Fire</th>\n",
              "      <td>6.213873</td>\n",
              "    </tr>\n",
              "    <tr>\n",
              "      <th>Flying</th>\n",
              "      <td>0.289017</td>\n",
              "    </tr>\n",
              "    <tr>\n",
              "      <th>Ghost</th>\n",
              "      <td>4.046243</td>\n",
              "    </tr>\n",
              "    <tr>\n",
              "      <th>Grass</th>\n",
              "      <td>9.104046</td>\n",
              "    </tr>\n",
              "    <tr>\n",
              "      <th>Ground</th>\n",
              "      <td>4.046243</td>\n",
              "    </tr>\n",
              "    <tr>\n",
              "      <th>Ice</th>\n",
              "      <td>3.034682</td>\n",
              "    </tr>\n",
              "    <tr>\n",
              "      <th>Normal</th>\n",
              "      <td>13.294798</td>\n",
              "    </tr>\n",
              "    <tr>\n",
              "      <th>Poison</th>\n",
              "      <td>4.046243</td>\n",
              "    </tr>\n",
              "    <tr>\n",
              "      <th>Psychic</th>\n",
              "      <td>5.780347</td>\n",
              "    </tr>\n",
              "    <tr>\n",
              "      <th>Rock</th>\n",
              "      <td>5.491329</td>\n",
              "    </tr>\n",
              "    <tr>\n",
              "      <th>Steel</th>\n",
              "      <td>2.745665</td>\n",
              "    </tr>\n",
              "    <tr>\n",
              "      <th>Water</th>\n",
              "      <td>14.884393</td>\n",
              "    </tr>\n",
              "  </tbody>\n",
              "</table>\n",
              "</div>\n",
              "      <button class=\"colab-df-convert\" onclick=\"convertToInteractive('df-a1e0c3a2-cfa2-4a5e-9b44-c5f9e6b52db3')\"\n",
              "              title=\"Convert this dataframe to an interactive table.\"\n",
              "              style=\"display:none;\">\n",
              "        \n",
              "  <svg xmlns=\"http://www.w3.org/2000/svg\" height=\"24px\"viewBox=\"0 0 24 24\"\n",
              "       width=\"24px\">\n",
              "    <path d=\"M0 0h24v24H0V0z\" fill=\"none\"/>\n",
              "    <path d=\"M18.56 5.44l.94 2.06.94-2.06 2.06-.94-2.06-.94-.94-2.06-.94 2.06-2.06.94zm-11 1L8.5 8.5l.94-2.06 2.06-.94-2.06-.94L8.5 2.5l-.94 2.06-2.06.94zm10 10l.94 2.06.94-2.06 2.06-.94-2.06-.94-.94-2.06-.94 2.06-2.06.94z\"/><path d=\"M17.41 7.96l-1.37-1.37c-.4-.4-.92-.59-1.43-.59-.52 0-1.04.2-1.43.59L10.3 9.45l-7.72 7.72c-.78.78-.78 2.05 0 2.83L4 21.41c.39.39.9.59 1.41.59.51 0 1.02-.2 1.41-.59l7.78-7.78 2.81-2.81c.8-.78.8-2.07 0-2.86zM5.41 20L4 18.59l7.72-7.72 1.47 1.35L5.41 20z\"/>\n",
              "  </svg>\n",
              "      </button>\n",
              "      \n",
              "  <style>\n",
              "    .colab-df-container {\n",
              "      display:flex;\n",
              "      flex-wrap:wrap;\n",
              "      gap: 12px;\n",
              "    }\n",
              "\n",
              "    .colab-df-convert {\n",
              "      background-color: #E8F0FE;\n",
              "      border: none;\n",
              "      border-radius: 50%;\n",
              "      cursor: pointer;\n",
              "      display: none;\n",
              "      fill: #1967D2;\n",
              "      height: 32px;\n",
              "      padding: 0 0 0 0;\n",
              "      width: 32px;\n",
              "    }\n",
              "\n",
              "    .colab-df-convert:hover {\n",
              "      background-color: #E2EBFA;\n",
              "      box-shadow: 0px 1px 2px rgba(60, 64, 67, 0.3), 0px 1px 3px 1px rgba(60, 64, 67, 0.15);\n",
              "      fill: #174EA6;\n",
              "    }\n",
              "\n",
              "    [theme=dark] .colab-df-convert {\n",
              "      background-color: #3B4455;\n",
              "      fill: #D2E3FC;\n",
              "    }\n",
              "\n",
              "    [theme=dark] .colab-df-convert:hover {\n",
              "      background-color: #434B5C;\n",
              "      box-shadow: 0px 1px 3px 1px rgba(0, 0, 0, 0.15);\n",
              "      filter: drop-shadow(0px 1px 2px rgba(0, 0, 0, 0.3));\n",
              "      fill: #FFFFFF;\n",
              "    }\n",
              "  </style>\n",
              "\n",
              "      <script>\n",
              "        const buttonEl =\n",
              "          document.querySelector('#df-a1e0c3a2-cfa2-4a5e-9b44-c5f9e6b52db3 button.colab-df-convert');\n",
              "        buttonEl.style.display =\n",
              "          google.colab.kernel.accessAllowed ? 'block' : 'none';\n",
              "\n",
              "        async function convertToInteractive(key) {\n",
              "          const element = document.querySelector('#df-a1e0c3a2-cfa2-4a5e-9b44-c5f9e6b52db3');\n",
              "          const dataTable =\n",
              "            await google.colab.kernel.invokeFunction('convertToInteractive',\n",
              "                                                     [key], {});\n",
              "          if (!dataTable) return;\n",
              "\n",
              "          const docLinkHtml = 'Like what you see? Visit the ' +\n",
              "            '<a target=\"_blank\" href=https://colab.research.google.com/notebooks/data_table.ipynb>data table notebook</a>'\n",
              "            + ' to learn more about interactive tables.';\n",
              "          element.innerHTML = '';\n",
              "          dataTable['output_type'] = 'display_data';\n",
              "          await google.colab.output.renderOutput(dataTable, element);\n",
              "          const docLink = document.createElement('div');\n",
              "          docLink.innerHTML = docLinkHtml;\n",
              "          element.appendChild(docLink);\n",
              "        }\n",
              "      </script>\n",
              "    </div>\n",
              "  </div>\n",
              "  "
            ]
          },
          "metadata": {},
          "execution_count": 28
        }
      ],
      "source": [
        "tab = pd.crosstab(index=non_legendary_df['Type 1'], columns='count')\n",
        "\n",
        "porcentajes = (tab/tab.sum())*100\n",
        "\n",
        "porcentajes"
      ]
    },
    {
      "cell_type": "code",
      "execution_count": null,
      "metadata": {
        "colab": {
          "base_uri": "https://localhost:8080/",
          "height": 499
        },
        "id": "YYR3JyCoj_8n",
        "outputId": "27e884dd-3005-42fe-e023-0c44603225fa"
      },
      "outputs": [
        {
          "output_type": "display_data",
          "data": {
            "text/plain": [
              "<Figure size 576x576 with 0 Axes>"
            ]
          },
          "metadata": {}
        },
        {
          "output_type": "display_data",
          "data": {
            "text/plain": [
              "<Figure size 576x576 with 1 Axes>"
            ],
            "image/png": "[encoded data removed]"
          },
          "metadata": {}
        }
      ],
      "source": [
        "plt.figure(figsize=(8,8))\n",
        "\n",
        "#define Seaborn color palette to use\n",
        "\n",
        "colors = sns.color_palette('pastel')[0:5]\n",
        "\n",
        "#create pie chart\n",
        "plt.figure(figsize=(8,8))\n",
        "plt.title('Porcentaje de tipos de pokemon legendarios')\n",
        "plt.pie(porcentajes['count'], labels = porcentajes.index, colors = colors, autopct='%.0f%%')\n",
        "plt.show()"
      ]
    },
    {
      "cell_type": "markdown",
      "metadata": {
        "id": "Or_HsR2wkSCx"
      },
      "source": [
        "# Box and Whiskers de Ataques y Defensa"
      ]
    },
    {
      "cell_type": "code",
      "execution_count": null,
      "metadata": {
        "colab": {
          "base_uri": "https://localhost:8080/",
          "height": 500
        },
        "id": "QNBijFkMkdqJ",
        "outputId": "8cc903c3-51aa-410c-beb8-1cc014b19171"
      },
      "outputs": [
        {
          "output_type": "execute_result",
          "data": {
            "text/plain": [
              "<AxesSubplot:>"
            ]
          },
          "metadata": {},
          "execution_count": 30
        },
        {
          "output_type": "display_data",
          "data": {
            "text/plain": [
              "<Figure size 576x576 with 1 Axes>"
            ],
            "image/png": "[encoded data removed]"
          },
          "metadata": {
            "needs_background": "light"
          }
        }
      ],
      "source": [
        "plt.figure(figsize=(8,8))\n",
        "\n",
        "non_legendary_df.boxplot('Total')"
      ]
    },
    {
      "cell_type": "code",
      "execution_count": null,
      "metadata": {
        "colab": {
          "base_uri": "https://localhost:8080/",
          "height": 500
        },
        "id": "xUqZe-KnkgnW",
        "outputId": "2371e48c-6f13-4579-ceb1-2284560f57b8"
      },
      "outputs": [
        {
          "output_type": "execute_result",
          "data": {
            "text/plain": [
              "<AxesSubplot:>"
            ]
          },
          "metadata": {},
          "execution_count": 31
        },
        {
          "output_type": "display_data",
          "data": {
            "text/plain": [
              "<Figure size 576x576 with 1 Axes>"
            ],
            "image/png": "[encoded data removed]"
          },
          "metadata": {
            "needs_background": "light"
          }
        }
      ],
      "source": [
        "plt.figure(figsize=(8,8))\n",
        "\n",
        "non_legendary_df.boxplot(column=[\"Attack\",\"Defense\",\"Sp. Atk\",\"Sp. Def\",\"Speed\"])"
      ]
    },
    {
      "cell_type": "markdown",
      "metadata": {
        "id": "TWoflKPDklAq"
      },
      "source": [
        "# Scatter plot"
      ]
    },
    {
      "cell_type": "code",
      "execution_count": null,
      "metadata": {
        "colab": {
          "base_uri": "https://localhost:8080/",
          "height": 518
        },
        "id": "I-UcxNArks3R",
        "outputId": "70579427-7a84-4341-83c2-c3ef0c7238ed"
      },
      "outputs": [
        {
          "output_type": "execute_result",
          "data": {
            "text/plain": [
              "array([[1.        , 0.23280414],\n",
              "       [0.23280414, 1.        ]])"
            ]
          },
          "metadata": {},
          "execution_count": 32
        },
        {
          "output_type": "display_data",
          "data": {
            "text/plain": [
              "<Figure size 576x576 with 1 Axes>"
            ],
            "image/png": "[encoded data removed]"
          },
          "metadata": {
            "needs_background": "light"
          }
        }
      ],
      "source": [
        "plt.figure(figsize=(8,8))\n",
        "\n",
        "plt.scatter(non_legendary_df[\"Attack\"],non_legendary_df[\"Sp. Atk\"])\n",
        "corrcoef(non_legendary_df[\"Attack\"],non_legendary_df[\"Sp. Atk\"])"
      ]
    },
    {
      "cell_type": "code",
      "execution_count": null,
      "metadata": {
        "colab": {
          "base_uri": "https://localhost:8080/",
          "height": 518
        },
        "id": "ib1F6Z8FkvDV",
        "outputId": "9d429e2c-c11d-4a6d-eb0c-eb2cc33e9d61"
      },
      "outputs": [
        {
          "output_type": "execute_result",
          "data": {
            "text/plain": [
              "array([[1.        , 0.45072588],\n",
              "       [0.45072588, 1.        ]])"
            ]
          },
          "metadata": {},
          "execution_count": 33
        },
        {
          "output_type": "display_data",
          "data": {
            "text/plain": [
              "<Figure size 576x576 with 1 Axes>"
            ],
            "image/png": "[encoded data removed]"
          },
          "metadata": {
            "needs_background": "light"
          }
        }
      ],
      "source": [
        "plt.figure(figsize=(8,8))\n",
        "\n",
        "plt.scatter(non_legendary_df[\"Defense\"],non_legendary_df[\"Sp. Def\"])\n",
        "corrcoef(non_legendary_df[\"Defense\"],non_legendary_df[\"Sp. Def\"])"
      ]
    },
    {
      "cell_type": "markdown",
      "metadata": {
        "id": "gRlusxH3k1Xf"
      },
      "source": [
        "# Top 5"
      ]
    },
    {
      "cell_type": "code",
      "execution_count": null,
      "metadata": {
        "colab": {
          "base_uri": "https://localhost:8080/",
          "height": 206
        },
        "id": "BBMcOgvCk3t-",
        "outputId": "6e887d1f-7487-4de6-8c56-b7f31d771520"
      },
      "outputs": [
        {
          "output_type": "execute_result",
          "data": {
            "text/plain": [
              "       #       Name  Type 1   Type 2   HP  Attack  Defense  Sp. Atk  Sp. Def  \\\n",
              "313  289    Slaking  Normal      NaN  150     160      100       95       65   \n",
              "267  248  Tyranitar    Rock     Dark  100     134      110       95      100   \n",
              "412  376  Metagross   Steel  Psychic   80     135      130       95       90   \n",
              "161  149  Dragonite  Dragon   Flying   91     134       95      100      100   \n",
              "776  706     Goodra  Dragon      NaN   90     100       70      110      150   \n",
              "\n",
              "     Speed  Generation  Legendary  Total  \n",
              "313    100           3      False    570  \n",
              "267     61           2      False    539  \n",
              "412     70           3      False    530  \n",
              "161     80           1      False    520  \n",
              "776     80           6      False    520  "
            ],
            "text/html": [
              "\n",
              "  <div id=\"df-35a2c7a2-b21b-4a58-b06b-4355cefee110\">\n",
              "    <div class=\"colab-df-container\">\n",
              "      <div>\n",
              "<style scoped>\n",
              "    .dataframe tbody tr th:only-of-type {\n",
              "        vertical-align: middle;\n",
              "    }\n",
              "\n",
              "    .dataframe tbody tr th {\n",
              "        vertical-align: top;\n",
              "    }\n",
              "\n",
              "    .dataframe thead th {\n",
              "        text-align: right;\n",
              "    }\n",
              "</style>\n",
              "<table border=\"1\" class=\"dataframe\">\n",
              "  <thead>\n",
              "    <tr style=\"text-align: right;\">\n",
              "      <th></th>\n",
              "      <th>#</th>\n",
              "      <th>Name</th>\n",
              "      <th>Type 1</th>\n",
              "      <th>Type 2</th>\n",
              "      <th>HP</th>\n",
              "      <th>Attack</th>\n",
              "      <th>Defense</th>\n",
              "      <th>Sp. Atk</th>\n",
              "      <th>Sp. Def</th>\n",
              "      <th>Speed</th>\n",
              "      <th>Generation</th>\n",
              "      <th>Legendary</th>\n",
              "      <th>Total</th>\n",
              "    </tr>\n",
              "  </thead>\n",
              "  <tbody>\n",
              "    <tr>\n",
              "      <th>313</th>\n",
              "      <td>289</td>\n",
              "      <td>Slaking</td>\n",
              "      <td>Normal</td>\n",
              "      <td>NaN</td>\n",
              "      <td>150</td>\n",
              "      <td>160</td>\n",
              "      <td>100</td>\n",
              "      <td>95</td>\n",
              "      <td>65</td>\n",
              "      <td>100</td>\n",
              "      <td>3</td>\n",
              "      <td>False</td>\n",
              "      <td>570</td>\n",
              "    </tr>\n",
              "    <tr>\n",
              "      <th>267</th>\n",
              "      <td>248</td>\n",
              "      <td>Tyranitar</td>\n",
              "      <td>Rock</td>\n",
              "      <td>Dark</td>\n",
              "      <td>100</td>\n",
              "      <td>134</td>\n",
              "      <td>110</td>\n",
              "      <td>95</td>\n",
              "      <td>100</td>\n",
              "      <td>61</td>\n",
              "      <td>2</td>\n",
              "      <td>False</td>\n",
              "      <td>539</td>\n",
              "    </tr>\n",
              "    <tr>\n",
              "      <th>412</th>\n",
              "      <td>376</td>\n",
              "      <td>Metagross</td>\n",
              "      <td>Steel</td>\n",
              "      <td>Psychic</td>\n",
              "      <td>80</td>\n",
              "      <td>135</td>\n",
              "      <td>130</td>\n",
              "      <td>95</td>\n",
              "      <td>90</td>\n",
              "      <td>70</td>\n",
              "      <td>3</td>\n",
              "      <td>False</td>\n",
              "      <td>530</td>\n",
              "    </tr>\n",
              "    <tr>\n",
              "      <th>161</th>\n",
              "      <td>149</td>\n",
              "      <td>Dragonite</td>\n",
              "      <td>Dragon</td>\n",
              "      <td>Flying</td>\n",
              "      <td>91</td>\n",
              "      <td>134</td>\n",
              "      <td>95</td>\n",
              "      <td>100</td>\n",
              "      <td>100</td>\n",
              "      <td>80</td>\n",
              "      <td>1</td>\n",
              "      <td>False</td>\n",
              "      <td>520</td>\n",
              "    </tr>\n",
              "    <tr>\n",
              "      <th>776</th>\n",
              "      <td>706</td>\n",
              "      <td>Goodra</td>\n",
              "      <td>Dragon</td>\n",
              "      <td>NaN</td>\n",
              "      <td>90</td>\n",
              "      <td>100</td>\n",
              "      <td>70</td>\n",
              "      <td>110</td>\n",
              "      <td>150</td>\n",
              "      <td>80</td>\n",
              "      <td>6</td>\n",
              "      <td>False</td>\n",
              "      <td>520</td>\n",
              "    </tr>\n",
              "  </tbody>\n",
              "</table>\n",
              "</div>\n",
              "      <button class=\"colab-df-convert\" onclick=\"convertToInteractive('df-35a2c7a2-b21b-4a58-b06b-4355cefee110')\"\n",
              "              title=\"Convert this dataframe to an interactive table.\"\n",
              "              style=\"display:none;\">\n",
              "        \n",
              "  <svg xmlns=\"http://www.w3.org/2000/svg\" height=\"24px\"viewBox=\"0 0 24 24\"\n",
              "       width=\"24px\">\n",
              "    <path d=\"M0 0h24v24H0V0z\" fill=\"none\"/>\n",
              "    <path d=\"M18.56 5.44l.94 2.06.94-2.06 2.06-.94-2.06-.94-.94-2.06-.94 2.06-2.06.94zm-11 1L8.5 8.5l.94-2.06 2.06-.94-2.06-.94L8.5 2.5l-.94 2.06-2.06.94zm10 10l.94 2.06.94-2.06 2.06-.94-2.06-.94-.94-2.06-.94 2.06-2.06.94z\"/><path d=\"M17.41 7.96l-1.37-1.37c-.4-.4-.92-.59-1.43-.59-.52 0-1.04.2-1.43.59L10.3 9.45l-7.72 7.72c-.78.78-.78 2.05 0 2.83L4 21.41c.39.39.9.59 1.41.59.51 0 1.02-.2 1.41-.59l7.78-7.78 2.81-2.81c.8-.78.8-2.07 0-2.86zM5.41 20L4 18.59l7.72-7.72 1.47 1.35L5.41 20z\"/>\n",
              "  </svg>\n",
              "      </button>\n",
              "      \n",
              "  <style>\n",
              "    .colab-df-container {\n",
              "      display:flex;\n",
              "      flex-wrap:wrap;\n",
              "      gap: 12px;\n",
              "    }\n",
              "\n",
              "    .colab-df-convert {\n",
              "      background-color: #E8F0FE;\n",
              "      border: none;\n",
              "      border-radius: 50%;\n",
              "      cursor: pointer;\n",
              "      display: none;\n",
              "      fill: #1967D2;\n",
              "      height: 32px;\n",
              "      padding: 0 0 0 0;\n",
              "      width: 32px;\n",
              "    }\n",
              "\n",
              "    .colab-df-convert:hover {\n",
              "      background-color: #E2EBFA;\n",
              "      box-shadow: 0px 1px 2px rgba(60, 64, 67, 0.3), 0px 1px 3px 1px rgba(60, 64, 67, 0.15);\n",
              "      fill: #174EA6;\n",
              "    }\n",
              "\n",
              "    [theme=dark] .colab-df-convert {\n",
              "      background-color: #3B4455;\n",
              "      fill: #D2E3FC;\n",
              "    }\n",
              "\n",
              "    [theme=dark] .colab-df-convert:hover {\n",
              "      background-color: #434B5C;\n",
              "      box-shadow: 0px 1px 3px 1px rgba(0, 0, 0, 0.15);\n",
              "      filter: drop-shadow(0px 1px 2px rgba(0, 0, 0, 0.3));\n",
              "      fill: #FFFFFF;\n",
              "    }\n",
              "  </style>\n",
              "\n",
              "      <script>\n",
              "        const buttonEl =\n",
              "          document.querySelector('#df-35a2c7a2-b21b-4a58-b06b-4355cefee110 button.colab-df-convert');\n",
              "        buttonEl.style.display =\n",
              "          google.colab.kernel.accessAllowed ? 'block' : 'none';\n",
              "\n",
              "        async function convertToInteractive(key) {\n",
              "          const element = document.querySelector('#df-35a2c7a2-b21b-4a58-b06b-4355cefee110');\n",
              "          const dataTable =\n",
              "            await google.colab.kernel.invokeFunction('convertToInteractive',\n",
              "                                                     [key], {});\n",
              "          if (!dataTable) return;\n",
              "\n",
              "          const docLinkHtml = 'Like what you see? Visit the ' +\n",
              "            '<a target=\"_blank\" href=https://colab.research.google.com/notebooks/data_table.ipynb>data table notebook</a>'\n",
              "            + ' to learn more about interactive tables.';\n",
              "          element.innerHTML = '';\n",
              "          dataTable['output_type'] = 'display_data';\n",
              "          await google.colab.output.renderOutput(dataTable, element);\n",
              "          const docLink = document.createElement('div');\n",
              "          docLink.innerHTML = docLinkHtml;\n",
              "          element.appendChild(docLink);\n",
              "        }\n",
              "      </script>\n",
              "    </div>\n",
              "  </div>\n",
              "  "
            ]
          },
          "metadata": {},
          "execution_count": 35
        }
      ],
      "source": [
        "top_non_legendaries = non_legendary_df.sort_values('Total', ascending=False).head(5)\n",
        "\n",
        "top_non_legendaries"
      ]
    },
    {
      "cell_type": "code",
      "execution_count": null,
      "metadata": {
        "colab": {
          "base_uri": "https://localhost:8080/",
          "height": 513
        },
        "id": "Vs_QqeSUlBlo",
        "outputId": "73e7927b-328e-488c-dab6-160927a2c744"
      },
      "outputs": [
        {
          "output_type": "display_data",
          "data": {
            "text/plain": [
              "<Figure size 576x576 with 1 Axes>"
            ],
            "image/png": "[encoded data removed]"
          },
          "metadata": {
            "needs_background": "light"
          }
        }
      ],
      "source": [
        "plt.figure(figsize=(8,8))\n",
        "\n",
        "plt.bar(top_non_legendaries['Name'], top_non_legendaries['Total'])\n",
        "plt.xlabel('Nombre del Pokémon')\n",
        "plt.ylabel('Puntuación total')\n",
        "plt.title('Top 5 de Pokémon NO legendarios')\n",
        "plt.show()"
      ]
    },
    {
      "cell_type": "markdown",
      "metadata": {
        "id": "YJhLN6uCmsNh"
      },
      "source": [
        "# Puntuación total de legendarios y no legendarios según el tipo"
      ]
    },
    {
      "cell_type": "code",
      "execution_count": null,
      "metadata": {
        "colab": {
          "base_uri": "https://localhost:8080/",
          "height": 894
        },
        "id": "-1Ju4Xd0nfXE",
        "outputId": "37abd949-ef1f-48c1-eac3-c744ef7db0c0"
      },
      "outputs": [
        {
          "output_type": "execute_result",
          "data": {
            "text/plain": [
              "<AxesSubplot:xlabel='Type 1', ylabel='Total'>"
            ]
          },
          "metadata": {},
          "execution_count": 37
        },
        {
          "output_type": "display_data",
          "data": {
            "text/plain": [
              "<Figure size 1080x1080 with 1 Axes>"
            ],
            "image/png": "[encoded data removed]"
          },
          "metadata": {
            "needs_background": "light"
          }
        }
      ],
      "source": [
        "plt.figure(figsize=(15,15))\n",
        "\n",
        "sns.barplot(data=pokemon_df, x=\"Type 1\", y=\"Total\", hue=\"Legendary\")"
      ]
    },
    {
      "cell_type": "markdown",
      "source": [
        "# Analisis de normalidad de los datos de Pokemon\n",
        "\n",
        "Formas de ver normalidad:\n",
        " - Histograma (con desity)\n",
        " - Box plot\n",
        " - Describe\n",
        " - QQ Plot\n",
        " - Asimetria/Kurtosis\n",
        " - Contraste de hipotesis"
      ],
      "metadata": {
        "id": "jzsRN5pbK3C9"
      }
    },
    {
      "cell_type": "markdown",
      "source": [
        "# Histograma"
      ],
      "metadata": {
        "id": "4pUh5naQLWnq"
      }
    },
    {
      "cell_type": "code",
      "source": [
        "pokemon_df['Attack'].plot(kind = \"density\", figsize = (9,9))\n",
        "#pokemon_df['Defense'].plot(kind = \"density\", figsize = (9,9))\n",
        "#pokemon_df['HP'].plot(kind = \"density\", figsize = (9,9))"
      ],
      "metadata": {
        "colab": {
          "base_uri": "https://localhost:8080/",
          "height": 554
        },
        "id": "H6IZI-yoLd_A",
        "outputId": "b0399c50-68a3-435f-b643-34f619c99ddc"
      },
      "execution_count": null,
      "outputs": [
        {
          "output_type": "execute_result",
          "data": {
            "text/plain": [
              "<AxesSubplot:ylabel='Density'>"
            ]
          },
          "metadata": {},
          "execution_count": 27
        },
        {
          "output_type": "display_data",
          "data": {
            "text/plain": [
              "<Figure size 648x648 with 1 Axes>"
            ],
            "image/png": "[encoded data removed]"
          },
          "metadata": {
            "needs_background": "light"
          }
        }
      ]
    },
    {
      "cell_type": "markdown",
      "source": [
        "# Box plot"
      ],
      "metadata": {
        "id": "6vfrpxfvMojS"
      }
    },
    {
      "cell_type": "code",
      "source": [
        "plt.figure(figsize=(8,8))\n",
        "pokemon_df.boxplot(column=[\"HP\", \"Attack\",\"Defense\",\"Sp. Atk\",\"Sp. Def\",\"Speed\"])"
      ],
      "metadata": {
        "colab": {
          "base_uri": "https://localhost:8080/",
          "height": 500
        },
        "id": "ziTd0MbOMVsy",
        "outputId": "f5eab9aa-277c-4956-b736-9dc4d22972ea"
      },
      "execution_count": null,
      "outputs": [
        {
          "output_type": "execute_result",
          "data": {
            "text/plain": [
              "<AxesSubplot:>"
            ]
          },
          "metadata": {},
          "execution_count": 28
        },
        {
          "output_type": "display_data",
          "data": {
            "text/plain": [
              "<Figure size 576x576 with 1 Axes>"
            ],
            "image/png": "[encoded data removed]"
          },
          "metadata": {
            "needs_background": "light"
          }
        }
      ]
    },
    {
      "cell_type": "markdown",
      "source": [
        "# Describe"
      ],
      "metadata": {
        "id": "GaWM-OAyNDX_"
      }
    },
    {
      "cell_type": "code",
      "source": [
        "pokemon_df[[\"HP\", \"Attack\",\"Defense\",\"Sp. Atk\",\"Sp. Def\",\"Speed\"]].describe()"
      ],
      "metadata": {
        "colab": {
          "base_uri": "https://localhost:8080/",
          "height": 300
        },
        "id": "wOgj8oH4NGUH",
        "outputId": "a07d9976-2850-4f06-8374-7489ca34e110"
      },
      "execution_count": null,
      "outputs": [
        {
          "output_type": "execute_result",
          "data": {
            "text/plain": [
              "               HP      Attack     Defense     Sp. Atk     Sp. Def       Speed\n",
              "count  751.000000  751.000000  751.000000  751.000000  751.000000  751.000000\n",
              "mean    68.669774   75.978695   71.744341   70.213049   70.109188   66.607190\n",
              "std     25.946152   29.920554   29.629870   30.263860   27.401096   27.845601\n",
              "min      1.000000    5.000000    5.000000   10.000000   20.000000    5.000000\n",
              "25%     50.000000   55.000000   50.000000   45.000000   50.000000   45.000000\n",
              "50%     65.000000   75.000000   68.000000   65.000000   65.000000   65.000000\n",
              "75%     80.000000   95.000000   90.000000   90.000000   85.000000   88.500000\n",
              "max    255.000000  180.000000  230.000000  180.000000  230.000000  180.000000"
            ],
            "text/html": [
              "\n",
              "  <div id=\"df-7eeb780c-cef3-4afc-a8ae-5fcdb94ab0fd\">\n",
              "    <div class=\"colab-df-container\">\n",
              "      <div>\n",
              "<style scoped>\n",
              "    .dataframe tbody tr th:only-of-type {\n",
              "        vertical-align: middle;\n",
              "    }\n",
              "\n",
              "    .dataframe tbody tr th {\n",
              "        vertical-align: top;\n",
              "    }\n",
              "\n",
              "    .dataframe thead th {\n",
              "        text-align: right;\n",
              "    }\n",
              "</style>\n",
              "<table border=\"1\" class=\"dataframe\">\n",
              "  <thead>\n",
              "    <tr style=\"text-align: right;\">\n",
              "      <th></th>\n",
              "      <th>HP</th>\n",
              "      <th>Attack</th>\n",
              "      <th>Defense</th>\n",
              "      <th>Sp. Atk</th>\n",
              "      <th>Sp. Def</th>\n",
              "      <th>Speed</th>\n",
              "    </tr>\n",
              "  </thead>\n",
              "  <tbody>\n",
              "    <tr>\n",
              "      <th>count</th>\n",
              "      <td>751.000000</td>\n",
              "      <td>751.000000</td>\n",
              "      <td>751.000000</td>\n",
              "      <td>751.000000</td>\n",
              "      <td>751.000000</td>\n",
              "      <td>751.000000</td>\n",
              "    </tr>\n",
              "    <tr>\n",
              "      <th>mean</th>\n",
              "      <td>68.669774</td>\n",
              "      <td>75.978695</td>\n",
              "      <td>71.744341</td>\n",
              "      <td>70.213049</td>\n",
              "      <td>70.109188</td>\n",
              "      <td>66.607190</td>\n",
              "    </tr>\n",
              "    <tr>\n",
              "      <th>std</th>\n",
              "      <td>25.946152</td>\n",
              "      <td>29.920554</td>\n",
              "      <td>29.629870</td>\n",
              "      <td>30.263860</td>\n",
              "      <td>27.401096</td>\n",
              "      <td>27.845601</td>\n",
              "    </tr>\n",
              "    <tr>\n",
              "      <th>min</th>\n",
              "      <td>1.000000</td>\n",
              "      <td>5.000000</td>\n",
              "      <td>5.000000</td>\n",
              "      <td>10.000000</td>\n",
              "      <td>20.000000</td>\n",
              "      <td>5.000000</td>\n",
              "    </tr>\n",
              "    <tr>\n",
              "      <th>25%</th>\n",
              "      <td>50.000000</td>\n",
              "      <td>55.000000</td>\n",
              "      <td>50.000000</td>\n",
              "      <td>45.000000</td>\n",
              "      <td>50.000000</td>\n",
              "      <td>45.000000</td>\n",
              "    </tr>\n",
              "    <tr>\n",
              "      <th>50%</th>\n",
              "      <td>65.000000</td>\n",
              "      <td>75.000000</td>\n",
              "      <td>68.000000</td>\n",
              "      <td>65.000000</td>\n",
              "      <td>65.000000</td>\n",
              "      <td>65.000000</td>\n",
              "    </tr>\n",
              "    <tr>\n",
              "      <th>75%</th>\n",
              "      <td>80.000000</td>\n",
              "      <td>95.000000</td>\n",
              "      <td>90.000000</td>\n",
              "      <td>90.000000</td>\n",
              "      <td>85.000000</td>\n",
              "      <td>88.500000</td>\n",
              "    </tr>\n",
              "    <tr>\n",
              "      <th>max</th>\n",
              "      <td>255.000000</td>\n",
              "      <td>180.000000</td>\n",
              "      <td>230.000000</td>\n",
              "      <td>180.000000</td>\n",
              "      <td>230.000000</td>\n",
              "      <td>180.000000</td>\n",
              "    </tr>\n",
              "  </tbody>\n",
              "</table>\n",
              "</div>\n",
              "      <button class=\"colab-df-convert\" onclick=\"convertToInteractive('df-7eeb780c-cef3-4afc-a8ae-5fcdb94ab0fd')\"\n",
              "              title=\"Convert this dataframe to an interactive table.\"\n",
              "              style=\"display:none;\">\n",
              "        \n",
              "  <svg xmlns=\"http://www.w3.org/2000/svg\" height=\"24px\"viewBox=\"0 0 24 24\"\n",
              "       width=\"24px\">\n",
              "    <path d=\"M0 0h24v24H0V0z\" fill=\"none\"/>\n",
              "    <path d=\"M18.56 5.44l.94 2.06.94-2.06 2.06-.94-2.06-.94-.94-2.06-.94 2.06-2.06.94zm-11 1L8.5 8.5l.94-2.06 2.06-.94-2.06-.94L8.5 2.5l-.94 2.06-2.06.94zm10 10l.94 2.06.94-2.06 2.06-.94-2.06-.94-.94-2.06-.94 2.06-2.06.94z\"/><path d=\"M17.41 7.96l-1.37-1.37c-.4-.4-.92-.59-1.43-.59-.52 0-1.04.2-1.43.59L10.3 9.45l-7.72 7.72c-.78.78-.78 2.05 0 2.83L4 21.41c.39.39.9.59 1.41.59.51 0 1.02-.2 1.41-.59l7.78-7.78 2.81-2.81c.8-.78.8-2.07 0-2.86zM5.41 20L4 18.59l7.72-7.72 1.47 1.35L5.41 20z\"/>\n",
              "  </svg>\n",
              "      </button>\n",
              "      \n",
              "  <style>\n",
              "    .colab-df-container {\n",
              "      display:flex;\n",
              "      flex-wrap:wrap;\n",
              "      gap: 12px;\n",
              "    }\n",
              "\n",
              "    .colab-df-convert {\n",
              "      background-color: #E8F0FE;\n",
              "      border: none;\n",
              "      border-radius: 50%;\n",
              "      cursor: pointer;\n",
              "      display: none;\n",
              "      fill: #1967D2;\n",
              "      height: 32px;\n",
              "      padding: 0 0 0 0;\n",
              "      width: 32px;\n",
              "    }\n",
              "\n",
              "    .colab-df-convert:hover {\n",
              "      background-color: #E2EBFA;\n",
              "      box-shadow: 0px 1px 2px rgba(60, 64, 67, 0.3), 0px 1px 3px 1px rgba(60, 64, 67, 0.15);\n",
              "      fill: #174EA6;\n",
              "    }\n",
              "\n",
              "    [theme=dark] .colab-df-convert {\n",
              "      background-color: #3B4455;\n",
              "      fill: #D2E3FC;\n",
              "    }\n",
              "\n",
              "    [theme=dark] .colab-df-convert:hover {\n",
              "      background-color: #434B5C;\n",
              "      box-shadow: 0px 1px 3px 1px rgba(0, 0, 0, 0.15);\n",
              "      filter: drop-shadow(0px 1px 2px rgba(0, 0, 0, 0.3));\n",
              "      fill: #FFFFFF;\n",
              "    }\n",
              "  </style>\n",
              "\n",
              "      <script>\n",
              "        const buttonEl =\n",
              "          document.querySelector('#df-7eeb780c-cef3-4afc-a8ae-5fcdb94ab0fd button.colab-df-convert');\n",
              "        buttonEl.style.display =\n",
              "          google.colab.kernel.accessAllowed ? 'block' : 'none';\n",
              "\n",
              "        async function convertToInteractive(key) {\n",
              "          const element = document.querySelector('#df-7eeb780c-cef3-4afc-a8ae-5fcdb94ab0fd');\n",
              "          const dataTable =\n",
              "            await google.colab.kernel.invokeFunction('convertToInteractive',\n",
              "                                                     [key], {});\n",
              "          if (!dataTable) return;\n",
              "\n",
              "          const docLinkHtml = 'Like what you see? Visit the ' +\n",
              "            '<a target=\"_blank\" href=https://colab.research.google.com/notebooks/data_table.ipynb>data table notebook</a>'\n",
              "            + ' to learn more about interactive tables.';\n",
              "          element.innerHTML = '';\n",
              "          dataTable['output_type'] = 'display_data';\n",
              "          await google.colab.output.renderOutput(dataTable, element);\n",
              "          const docLink = document.createElement('div');\n",
              "          docLink.innerHTML = docLinkHtml;\n",
              "          element.appendChild(docLink);\n",
              "        }\n",
              "      </script>\n",
              "    </div>\n",
              "  </div>\n",
              "  "
            ]
          },
          "metadata": {},
          "execution_count": 34
        }
      ]
    },
    {
      "cell_type": "markdown",
      "source": [
        "# QQ plot"
      ],
      "metadata": {
        "id": "XlYcXMoyOOEW"
      }
    },
    {
      "cell_type": "code",
      "source": [
        "scipy.stats.probplot(pokemon_df['Attack'], dist=\"norm\", plot=plt)\n",
        "plt.show()"
      ],
      "metadata": {
        "colab": {
          "base_uri": "https://localhost:8080/",
          "height": 295
        },
        "id": "LuozovHNOKVx",
        "outputId": "f826c31f-7f2a-43b2-aa7b-2a8a9b1e61e2"
      },
      "execution_count": null,
      "outputs": [
        {
          "output_type": "display_data",
          "data": {
            "text/plain": [
              "<Figure size 432x288 with 1 Axes>"
            ],
            "image/png": "[encoded data removed]"
          },
          "metadata": {
            "needs_background": "light"
          }
        }
      ]
    },
    {
      "cell_type": "code",
      "source": [
        "scipy.stats.probplot(pokemon_df['HP'], dist=\"norm\", plot=plt)\n",
        "plt.show()"
      ],
      "metadata": {
        "colab": {
          "base_uri": "https://localhost:8080/",
          "height": 295
        },
        "id": "O3aQ30MAPSxO",
        "outputId": "e45a1dbe-1b0f-4f91-d214-58aa4105a7a0"
      },
      "execution_count": null,
      "outputs": [
        {
          "output_type": "display_data",
          "data": {
            "text/plain": [
              "<Figure size 432x288 with 1 Axes>"
            ],
            "image/png": "[encoded data removed]"
          },
          "metadata": {
            "needs_background": "light"
          }
        }
      ]
    },
    {
      "cell_type": "code",
      "source": [
        "scipy.stats.probplot(pokemon_df['Total'], dist=\"norm\", plot=plt)\n",
        "plt.show()"
      ],
      "metadata": {
        "colab": {
          "base_uri": "https://localhost:8080/",
          "height": 295
        },
        "id": "4uJLyOtkPZes",
        "outputId": "79eeb324-53c5-4ee6-a208-75eb4a477e81"
      },
      "execution_count": null,
      "outputs": [
        {
          "output_type": "display_data",
          "data": {
            "text/plain": [
              "<Figure size 432x288 with 1 Axes>"
            ],
            "image/png": "[encoded data removed]"
          },
          "metadata": {
            "needs_background": "light"
          }
        }
      ]
    },
    {
      "cell_type": "code",
      "source": [
        "scipy.stats.probplot(pokemon_df['Total'], dist=\"norm\", plot=plt)\n",
        "plt.show()"
      ],
      "metadata": {
        "id": "bTpniBA7bWTD"
      },
      "execution_count": null,
      "outputs": []
    },
    {
      "cell_type": "markdown",
      "source": [
        "# Asimetria / Kurtosis"
      ],
      "metadata": {
        "id": "6HsJpcUKPtnU"
      }
    },
    {
      "cell_type": "code",
      "source": [
        "print(pd.Series(pokemon_df['Total']).skew())\n",
        "print(pd.Series(pokemon_df['Total']).kurtosis())"
      ],
      "metadata": {
        "colab": {
          "base_uri": "https://localhost:8080/"
        },
        "id": "u2pzsStOQejP",
        "outputId": "66da6449-9bb1-4b0b-8b7d-9533bd5b04cf"
      },
      "execution_count": null,
      "outputs": [
        {
          "output_type": "stream",
          "name": "stdout",
          "text": [
            "0.15004141545713381\n",
            "-0.44635065877726765\n"
          ]
        }
      ]
    },
    {
      "cell_type": "markdown",
      "source": [
        "# Estudio estadistico del ataque de los Pokemon más comunes de No Legendarios \n",
        "\n",
        "Estudiaremos los pokemon de tipo Normal y Agua que son los que más hay de acuerdo con el pychart del porcentaje de pokemon según el tipo."
      ],
      "metadata": {
        "id": "d3WPccqWUqCa"
      }
    },
    {
      "cell_type": "markdown",
      "source": [
        "Accedemos a los pokemon no legendarios de tipo Normal"
      ],
      "metadata": {
        "id": "onh1KeryXGAd"
      }
    },
    {
      "cell_type": "code",
      "source": [
        "normal_df = non_legendary_df[non_legendary_df['Type 1'] == 'Normal']\n",
        "\n",
        "normal_df"
      ],
      "metadata": {
        "colab": {
          "base_uri": "https://localhost:8080/",
          "height": 424
        },
        "id": "_cT1fmE0VNSX",
        "outputId": "836a878f-8601-42a2-bc21-beac39517592"
      },
      "execution_count": null,
      "outputs": [
        {
          "output_type": "execute_result",
          "data": {
            "text/plain": [
              "       #                     Name  Type 1    Type 2   HP  Attack  Defense  \\\n",
              "20    16                   Pidgey  Normal    Flying   40      45       40   \n",
              "21    17                Pidgeotto  Normal    Flying   63      60       55   \n",
              "22    18                  Pidgeot  Normal    Flying   83      80       75   \n",
              "24    19                  Rattata  Normal       NaN   30      56       35   \n",
              "25    20                 Raticate  Normal       NaN   55      81       60   \n",
              "..   ...                      ...     ...       ...  ...     ...      ...   \n",
              "716  648  MeloettaPirouette Forme  Normal  Fighting  100     128       90   \n",
              "727  659                 Bunnelby  Normal       NaN   38      36       38   \n",
              "728  660                Diggersby  Normal    Ground   85      56       77   \n",
              "729  661               Fletchling  Normal    Flying   45      50       43   \n",
              "744  676                  Furfrou  Normal       NaN   75      80       60   \n",
              "\n",
              "     Sp. Atk  Sp. Def  Speed  Generation  Legendary  Total  \n",
              "20        35       35     56           1      False    195  \n",
              "21        50       50     71           1      False    278  \n",
              "22        70       70    101           1      False    378  \n",
              "24        25       35     72           1      False    181  \n",
              "25        50       70     97           1      False    316  \n",
              "..       ...      ...    ...         ...        ...    ...  \n",
              "716       77       77    128           5      False    472  \n",
              "727       32       36     57           6      False    180  \n",
              "728       50       77     78           6      False    345  \n",
              "729       40       38     62           6      False    216  \n",
              "744       65       90    102           6      False    370  \n",
              "\n",
              "[92 rows x 13 columns]"
            ],
            "text/html": [
              "\n",
              "  <div id=\"df-a7432182-9753-4b84-b93e-5febb1d0a228\">\n",
              "    <div class=\"colab-df-container\">\n",
              "      <div>\n",
              "<style scoped>\n",
              "    .dataframe tbody tr th:only-of-type {\n",
              "        vertical-align: middle;\n",
              "    }\n",
              "\n",
              "    .dataframe tbody tr th {\n",
              "        vertical-align: top;\n",
              "    }\n",
              "\n",
              "    .dataframe thead th {\n",
              "        text-align: right;\n",
              "    }\n",
              "</style>\n",
              "<table border=\"1\" class=\"dataframe\">\n",
              "  <thead>\n",
              "    <tr style=\"text-align: right;\">\n",
              "      <th></th>\n",
              "      <th>#</th>\n",
              "      <th>Name</th>\n",
              "      <th>Type 1</th>\n",
              "      <th>Type 2</th>\n",
              "      <th>HP</th>\n",
              "      <th>Attack</th>\n",
              "      <th>Defense</th>\n",
              "      <th>Sp. Atk</th>\n",
              "      <th>Sp. Def</th>\n",
              "      <th>Speed</th>\n",
              "      <th>Generation</th>\n",
              "      <th>Legendary</th>\n",
              "      <th>Total</th>\n",
              "    </tr>\n",
              "  </thead>\n",
              "  <tbody>\n",
              "    <tr>\n",
              "      <th>20</th>\n",
              "      <td>16</td>\n",
              "      <td>Pidgey</td>\n",
              "      <td>Normal</td>\n",
              "      <td>Flying</td>\n",
              "      <td>40</td>\n",
              "      <td>45</td>\n",
              "      <td>40</td>\n",
              "      <td>35</td>\n",
              "      <td>35</td>\n",
              "      <td>56</td>\n",
              "      <td>1</td>\n",
              "      <td>False</td>\n",
              "      <td>195</td>\n",
              "    </tr>\n",
              "    <tr>\n",
              "      <th>21</th>\n",
              "      <td>17</td>\n",
              "      <td>Pidgeotto</td>\n",
              "      <td>Normal</td>\n",
              "      <td>Flying</td>\n",
              "      <td>63</td>\n",
              "      <td>60</td>\n",
              "      <td>55</td>\n",
              "      <td>50</td>\n",
              "      <td>50</td>\n",
              "      <td>71</td>\n",
              "      <td>1</td>\n",
              "      <td>False</td>\n",
              "      <td>278</td>\n",
              "    </tr>\n",
              "    <tr>\n",
              "      <th>22</th>\n",
              "      <td>18</td>\n",
              "      <td>Pidgeot</td>\n",
              "      <td>Normal</td>\n",
              "      <td>Flying</td>\n",
              "      <td>83</td>\n",
              "      <td>80</td>\n",
              "      <td>75</td>\n",
              "      <td>70</td>\n",
              "      <td>70</td>\n",
              "      <td>101</td>\n",
              "      <td>1</td>\n",
              "      <td>False</td>\n",
              "      <td>378</td>\n",
              "    </tr>\n",
              "    <tr>\n",
              "      <th>24</th>\n",
              "      <td>19</td>\n",
              "      <td>Rattata</td>\n",
              "      <td>Normal</td>\n",
              "      <td>NaN</td>\n",
              "      <td>30</td>\n",
              "      <td>56</td>\n",
              "      <td>35</td>\n",
              "      <td>25</td>\n",
              "      <td>35</td>\n",
              "      <td>72</td>\n",
              "      <td>1</td>\n",
              "      <td>False</td>\n",
              "      <td>181</td>\n",
              "    </tr>\n",
              "    <tr>\n",
              "      <th>25</th>\n",
              "      <td>20</td>\n",
              "      <td>Raticate</td>\n",
              "      <td>Normal</td>\n",
              "      <td>NaN</td>\n",
              "      <td>55</td>\n",
              "      <td>81</td>\n",
              "      <td>60</td>\n",
              "      <td>50</td>\n",
              "      <td>70</td>\n",
              "      <td>97</td>\n",
              "      <td>1</td>\n",
              "      <td>False</td>\n",
              "      <td>316</td>\n",
              "    </tr>\n",
              "    <tr>\n",
              "      <th>...</th>\n",
              "      <td>...</td>\n",
              "      <td>...</td>\n",
              "      <td>...</td>\n",
              "      <td>...</td>\n",
              "      <td>...</td>\n",
              "      <td>...</td>\n",
              "      <td>...</td>\n",
              "      <td>...</td>\n",
              "      <td>...</td>\n",
              "      <td>...</td>\n",
              "      <td>...</td>\n",
              "      <td>...</td>\n",
              "      <td>...</td>\n",
              "    </tr>\n",
              "    <tr>\n",
              "      <th>716</th>\n",
              "      <td>648</td>\n",
              "      <td>MeloettaPirouette Forme</td>\n",
              "      <td>Normal</td>\n",
              "      <td>Fighting</td>\n",
              "      <td>100</td>\n",
              "      <td>128</td>\n",
              "      <td>90</td>\n",
              "      <td>77</td>\n",
              "      <td>77</td>\n",
              "      <td>128</td>\n",
              "      <td>5</td>\n",
              "      <td>False</td>\n",
              "      <td>472</td>\n",
              "    </tr>\n",
              "    <tr>\n",
              "      <th>727</th>\n",
              "      <td>659</td>\n",
              "      <td>Bunnelby</td>\n",
              "      <td>Normal</td>\n",
              "      <td>NaN</td>\n",
              "      <td>38</td>\n",
              "      <td>36</td>\n",
              "      <td>38</td>\n",
              "      <td>32</td>\n",
              "      <td>36</td>\n",
              "      <td>57</td>\n",
              "      <td>6</td>\n",
              "      <td>False</td>\n",
              "      <td>180</td>\n",
              "    </tr>\n",
              "    <tr>\n",
              "      <th>728</th>\n",
              "      <td>660</td>\n",
              "      <td>Diggersby</td>\n",
              "      <td>Normal</td>\n",
              "      <td>Ground</td>\n",
              "      <td>85</td>\n",
              "      <td>56</td>\n",
              "      <td>77</td>\n",
              "      <td>50</td>\n",
              "      <td>77</td>\n",
              "      <td>78</td>\n",
              "      <td>6</td>\n",
              "      <td>False</td>\n",
              "      <td>345</td>\n",
              "    </tr>\n",
              "    <tr>\n",
              "      <th>729</th>\n",
              "      <td>661</td>\n",
              "      <td>Fletchling</td>\n",
              "      <td>Normal</td>\n",
              "      <td>Flying</td>\n",
              "      <td>45</td>\n",
              "      <td>50</td>\n",
              "      <td>43</td>\n",
              "      <td>40</td>\n",
              "      <td>38</td>\n",
              "      <td>62</td>\n",
              "      <td>6</td>\n",
              "      <td>False</td>\n",
              "      <td>216</td>\n",
              "    </tr>\n",
              "    <tr>\n",
              "      <th>744</th>\n",
              "      <td>676</td>\n",
              "      <td>Furfrou</td>\n",
              "      <td>Normal</td>\n",
              "      <td>NaN</td>\n",
              "      <td>75</td>\n",
              "      <td>80</td>\n",
              "      <td>60</td>\n",
              "      <td>65</td>\n",
              "      <td>90</td>\n",
              "      <td>102</td>\n",
              "      <td>6</td>\n",
              "      <td>False</td>\n",
              "      <td>370</td>\n",
              "    </tr>\n",
              "  </tbody>\n",
              "</table>\n",
              "<p>92 rows × 13 columns</p>\n",
              "</div>\n",
              "      <button class=\"colab-df-convert\" onclick=\"convertToInteractive('df-a7432182-9753-4b84-b93e-5febb1d0a228')\"\n",
              "              title=\"Convert this dataframe to an interactive table.\"\n",
              "              style=\"display:none;\">\n",
              "        \n",
              "  <svg xmlns=\"http://www.w3.org/2000/svg\" height=\"24px\"viewBox=\"0 0 24 24\"\n",
              "       width=\"24px\">\n",
              "    <path d=\"M0 0h24v24H0V0z\" fill=\"none\"/>\n",
              "    <path d=\"M18.56 5.44l.94 2.06.94-2.06 2.06-.94-2.06-.94-.94-2.06-.94 2.06-2.06.94zm-11 1L8.5 8.5l.94-2.06 2.06-.94-2.06-.94L8.5 2.5l-.94 2.06-2.06.94zm10 10l.94 2.06.94-2.06 2.06-.94-2.06-.94-.94-2.06-.94 2.06-2.06.94z\"/><path d=\"M17.41 7.96l-1.37-1.37c-.4-.4-.92-.59-1.43-.59-.52 0-1.04.2-1.43.59L10.3 9.45l-7.72 7.72c-.78.78-.78 2.05 0 2.83L4 21.41c.39.39.9.59 1.41.59.51 0 1.02-.2 1.41-.59l7.78-7.78 2.81-2.81c.8-.78.8-2.07 0-2.86zM5.41 20L4 18.59l7.72-7.72 1.47 1.35L5.41 20z\"/>\n",
              "  </svg>\n",
              "      </button>\n",
              "      \n",
              "  <style>\n",
              "    .colab-df-container {\n",
              "      display:flex;\n",
              "      flex-wrap:wrap;\n",
              "      gap: 12px;\n",
              "    }\n",
              "\n",
              "    .colab-df-convert {\n",
              "      background-color: #E8F0FE;\n",
              "      border: none;\n",
              "      border-radius: 50%;\n",
              "      cursor: pointer;\n",
              "      display: none;\n",
              "      fill: #1967D2;\n",
              "      height: 32px;\n",
              "      padding: 0 0 0 0;\n",
              "      width: 32px;\n",
              "    }\n",
              "\n",
              "    .colab-df-convert:hover {\n",
              "      background-color: #E2EBFA;\n",
              "      box-shadow: 0px 1px 2px rgba(60, 64, 67, 0.3), 0px 1px 3px 1px rgba(60, 64, 67, 0.15);\n",
              "      fill: #174EA6;\n",
              "    }\n",
              "\n",
              "    [theme=dark] .colab-df-convert {\n",
              "      background-color: #3B4455;\n",
              "      fill: #D2E3FC;\n",
              "    }\n",
              "\n",
              "    [theme=dark] .colab-df-convert:hover {\n",
              "      background-color: #434B5C;\n",
              "      box-shadow: 0px 1px 3px 1px rgba(0, 0, 0, 0.15);\n",
              "      filter: drop-shadow(0px 1px 2px rgba(0, 0, 0, 0.3));\n",
              "      fill: #FFFFFF;\n",
              "    }\n",
              "  </style>\n",
              "\n",
              "      <script>\n",
              "        const buttonEl =\n",
              "          document.querySelector('#df-a7432182-9753-4b84-b93e-5febb1d0a228 button.colab-df-convert');\n",
              "        buttonEl.style.display =\n",
              "          google.colab.kernel.accessAllowed ? 'block' : 'none';\n",
              "\n",
              "        async function convertToInteractive(key) {\n",
              "          const element = document.querySelector('#df-a7432182-9753-4b84-b93e-5febb1d0a228');\n",
              "          const dataTable =\n",
              "            await google.colab.kernel.invokeFunction('convertToInteractive',\n",
              "                                                     [key], {});\n",
              "          if (!dataTable) return;\n",
              "\n",
              "          const docLinkHtml = 'Like what you see? Visit the ' +\n",
              "            '<a target=\"_blank\" href=https://colab.research.google.com/notebooks/data_table.ipynb>data table notebook</a>'\n",
              "            + ' to learn more about interactive tables.';\n",
              "          element.innerHTML = '';\n",
              "          dataTable['output_type'] = 'display_data';\n",
              "          await google.colab.output.renderOutput(dataTable, element);\n",
              "          const docLink = document.createElement('div');\n",
              "          docLink.innerHTML = docLinkHtml;\n",
              "          element.appendChild(docLink);\n",
              "        }\n",
              "      </script>\n",
              "    </div>\n",
              "  </div>\n",
              "  "
            ]
          },
          "metadata": {},
          "execution_count": 47
        }
      ]
    },
    {
      "cell_type": "markdown",
      "source": [
        "Accedemos a los pokemon no legendarios de tipo Agua"
      ],
      "metadata": {
        "id": "U3u0BRIbXO0O"
      }
    },
    {
      "cell_type": "code",
      "source": [
        "water_df = non_legendary_df[non_legendary_df['Type 1'] == 'Water']\n",
        "\n",
        "water_df"
      ],
      "metadata": {
        "colab": {
          "base_uri": "https://localhost:8080/",
          "height": 424
        },
        "id": "dnV-R5vDXSo_",
        "outputId": "34e4b7d6-8d42-4a85-a33f-9a6eb0dec47c"
      },
      "execution_count": null,
      "outputs": [
        {
          "output_type": "execute_result",
          "data": {
            "text/plain": [
              "       #       Name Type 1 Type 2  HP  Attack  Defense  Sp. Atk  Sp. Def  \\\n",
              "9      7   Squirtle  Water    NaN  44      48       65       50       64   \n",
              "10     8  Wartortle  Water    NaN  59      63       80       65       80   \n",
              "11     9  Blastoise  Water    NaN  79      83      100       85      105   \n",
              "59    54    Psyduck  Water    NaN  50      52       48       65       50   \n",
              "60    55    Golduck  Water    NaN  80      82       78       95       80   \n",
              "..   ...        ...    ...    ...  ..     ...      ...      ...      ...   \n",
              "724  656    Froakie  Water    NaN  41      56       40       62       44   \n",
              "725  657  Frogadier  Water    NaN  54      63       52       83       56   \n",
              "726  658   Greninja  Water   Dark  72      95       67      103       71   \n",
              "762  692  Clauncher  Water    NaN  50      53       62       58       63   \n",
              "763  693  Clawitzer  Water    NaN  71      73       88      120       89   \n",
              "\n",
              "     Speed  Generation  Legendary  Total  \n",
              "9       43           1      False    271  \n",
              "10      58           1      False    347  \n",
              "11      78           1      False    452  \n",
              "59      55           1      False    265  \n",
              "60      85           1      False    415  \n",
              "..     ...         ...        ...    ...  \n",
              "724     71           6      False    243  \n",
              "725     97           6      False    308  \n",
              "726    122           6      False    408  \n",
              "762     44           6      False    286  \n",
              "763     59           6      False    441  \n",
              "\n",
              "[103 rows x 13 columns]"
            ],
            "text/html": [
              "\n",
              "  <div id=\"df-970d741f-cab6-4165-8373-69fcc4c8bda4\">\n",
              "    <div class=\"colab-df-container\">\n",
              "      <div>\n",
              "<style scoped>\n",
              "    .dataframe tbody tr th:only-of-type {\n",
              "        vertical-align: middle;\n",
              "    }\n",
              "\n",
              "    .dataframe tbody tr th {\n",
              "        vertical-align: top;\n",
              "    }\n",
              "\n",
              "    .dataframe thead th {\n",
              "        text-align: right;\n",
              "    }\n",
              "</style>\n",
              "<table border=\"1\" class=\"dataframe\">\n",
              "  <thead>\n",
              "    <tr style=\"text-align: right;\">\n",
              "      <th></th>\n",
              "      <th>#</th>\n",
              "      <th>Name</th>\n",
              "      <th>Type 1</th>\n",
              "      <th>Type 2</th>\n",
              "      <th>HP</th>\n",
              "      <th>Attack</th>\n",
              "      <th>Defense</th>\n",
              "      <th>Sp. Atk</th>\n",
              "      <th>Sp. Def</th>\n",
              "      <th>Speed</th>\n",
              "      <th>Generation</th>\n",
              "      <th>Legendary</th>\n",
              "      <th>Total</th>\n",
              "    </tr>\n",
              "  </thead>\n",
              "  <tbody>\n",
              "    <tr>\n",
              "      <th>9</th>\n",
              "      <td>7</td>\n",
              "      <td>Squirtle</td>\n",
              "      <td>Water</td>\n",
              "      <td>NaN</td>\n",
              "      <td>44</td>\n",
              "      <td>48</td>\n",
              "      <td>65</td>\n",
              "      <td>50</td>\n",
              "      <td>64</td>\n",
              "      <td>43</td>\n",
              "      <td>1</td>\n",
              "      <td>False</td>\n",
              "      <td>271</td>\n",
              "    </tr>\n",
              "    <tr>\n",
              "      <th>10</th>\n",
              "      <td>8</td>\n",
              "      <td>Wartortle</td>\n",
              "      <td>Water</td>\n",
              "      <td>NaN</td>\n",
              "      <td>59</td>\n",
              "      <td>63</td>\n",
              "      <td>80</td>\n",
              "      <td>65</td>\n",
              "      <td>80</td>\n",
              "      <td>58</td>\n",
              "      <td>1</td>\n",
              "      <td>False</td>\n",
              "      <td>347</td>\n",
              "    </tr>\n",
              "    <tr>\n",
              "      <th>11</th>\n",
              "      <td>9</td>\n",
              "      <td>Blastoise</td>\n",
              "      <td>Water</td>\n",
              "      <td>NaN</td>\n",
              "      <td>79</td>\n",
              "      <td>83</td>\n",
              "      <td>100</td>\n",
              "      <td>85</td>\n",
              "      <td>105</td>\n",
              "      <td>78</td>\n",
              "      <td>1</td>\n",
              "      <td>False</td>\n",
              "      <td>452</td>\n",
              "    </tr>\n",
              "    <tr>\n",
              "      <th>59</th>\n",
              "      <td>54</td>\n",
              "      <td>Psyduck</td>\n",
              "      <td>Water</td>\n",
              "      <td>NaN</td>\n",
              "      <td>50</td>\n",
              "      <td>52</td>\n",
              "      <td>48</td>\n",
              "      <td>65</td>\n",
              "      <td>50</td>\n",
              "      <td>55</td>\n",
              "      <td>1</td>\n",
              "      <td>False</td>\n",
              "      <td>265</td>\n",
              "    </tr>\n",
              "    <tr>\n",
              "      <th>60</th>\n",
              "      <td>55</td>\n",
              "      <td>Golduck</td>\n",
              "      <td>Water</td>\n",
              "      <td>NaN</td>\n",
              "      <td>80</td>\n",
              "      <td>82</td>\n",
              "      <td>78</td>\n",
              "      <td>95</td>\n",
              "      <td>80</td>\n",
              "      <td>85</td>\n",
              "      <td>1</td>\n",
              "      <td>False</td>\n",
              "      <td>415</td>\n",
              "    </tr>\n",
              "    <tr>\n",
              "      <th>...</th>\n",
              "      <td>...</td>\n",
              "      <td>...</td>\n",
              "      <td>...</td>\n",
              "      <td>...</td>\n",
              "      <td>...</td>\n",
              "      <td>...</td>\n",
              "      <td>...</td>\n",
              "      <td>...</td>\n",
              "      <td>...</td>\n",
              "      <td>...</td>\n",
              "      <td>...</td>\n",
              "      <td>...</td>\n",
              "      <td>...</td>\n",
              "    </tr>\n",
              "    <tr>\n",
              "      <th>724</th>\n",
              "      <td>656</td>\n",
              "      <td>Froakie</td>\n",
              "      <td>Water</td>\n",
              "      <td>NaN</td>\n",
              "      <td>41</td>\n",
              "      <td>56</td>\n",
              "      <td>40</td>\n",
              "      <td>62</td>\n",
              "      <td>44</td>\n",
              "      <td>71</td>\n",
              "      <td>6</td>\n",
              "      <td>False</td>\n",
              "      <td>243</td>\n",
              "    </tr>\n",
              "    <tr>\n",
              "      <th>725</th>\n",
              "      <td>657</td>\n",
              "      <td>Frogadier</td>\n",
              "      <td>Water</td>\n",
              "      <td>NaN</td>\n",
              "      <td>54</td>\n",
              "      <td>63</td>\n",
              "      <td>52</td>\n",
              "      <td>83</td>\n",
              "      <td>56</td>\n",
              "      <td>97</td>\n",
              "      <td>6</td>\n",
              "      <td>False</td>\n",
              "      <td>308</td>\n",
              "    </tr>\n",
              "    <tr>\n",
              "      <th>726</th>\n",
              "      <td>658</td>\n",
              "      <td>Greninja</td>\n",
              "      <td>Water</td>\n",
              "      <td>Dark</td>\n",
              "      <td>72</td>\n",
              "      <td>95</td>\n",
              "      <td>67</td>\n",
              "      <td>103</td>\n",
              "      <td>71</td>\n",
              "      <td>122</td>\n",
              "      <td>6</td>\n",
              "      <td>False</td>\n",
              "      <td>408</td>\n",
              "    </tr>\n",
              "    <tr>\n",
              "      <th>762</th>\n",
              "      <td>692</td>\n",
              "      <td>Clauncher</td>\n",
              "      <td>Water</td>\n",
              "      <td>NaN</td>\n",
              "      <td>50</td>\n",
              "      <td>53</td>\n",
              "      <td>62</td>\n",
              "      <td>58</td>\n",
              "      <td>63</td>\n",
              "      <td>44</td>\n",
              "      <td>6</td>\n",
              "      <td>False</td>\n",
              "      <td>286</td>\n",
              "    </tr>\n",
              "    <tr>\n",
              "      <th>763</th>\n",
              "      <td>693</td>\n",
              "      <td>Clawitzer</td>\n",
              "      <td>Water</td>\n",
              "      <td>NaN</td>\n",
              "      <td>71</td>\n",
              "      <td>73</td>\n",
              "      <td>88</td>\n",
              "      <td>120</td>\n",
              "      <td>89</td>\n",
              "      <td>59</td>\n",
              "      <td>6</td>\n",
              "      <td>False</td>\n",
              "      <td>441</td>\n",
              "    </tr>\n",
              "  </tbody>\n",
              "</table>\n",
              "<p>103 rows × 13 columns</p>\n",
              "</div>\n",
              "      <button class=\"colab-df-convert\" onclick=\"convertToInteractive('df-970d741f-cab6-4165-8373-69fcc4c8bda4')\"\n",
              "              title=\"Convert this dataframe to an interactive table.\"\n",
              "              style=\"display:none;\">\n",
              "        \n",
              "  <svg xmlns=\"http://www.w3.org/2000/svg\" height=\"24px\"viewBox=\"0 0 24 24\"\n",
              "       width=\"24px\">\n",
              "    <path d=\"M0 0h24v24H0V0z\" fill=\"none\"/>\n",
              "    <path d=\"M18.56 5.44l.94 2.06.94-2.06 2.06-.94-2.06-.94-.94-2.06-.94 2.06-2.06.94zm-11 1L8.5 8.5l.94-2.06 2.06-.94-2.06-.94L8.5 2.5l-.94 2.06-2.06.94zm10 10l.94 2.06.94-2.06 2.06-.94-2.06-.94-.94-2.06-.94 2.06-2.06.94z\"/><path d=\"M17.41 7.96l-1.37-1.37c-.4-.4-.92-.59-1.43-.59-.52 0-1.04.2-1.43.59L10.3 9.45l-7.72 7.72c-.78.78-.78 2.05 0 2.83L4 21.41c.39.39.9.59 1.41.59.51 0 1.02-.2 1.41-.59l7.78-7.78 2.81-2.81c.8-.78.8-2.07 0-2.86zM5.41 20L4 18.59l7.72-7.72 1.47 1.35L5.41 20z\"/>\n",
              "  </svg>\n",
              "      </button>\n",
              "      \n",
              "  <style>\n",
              "    .colab-df-container {\n",
              "      display:flex;\n",
              "      flex-wrap:wrap;\n",
              "      gap: 12px;\n",
              "    }\n",
              "\n",
              "    .colab-df-convert {\n",
              "      background-color: #E8F0FE;\n",
              "      border: none;\n",
              "      border-radius: 50%;\n",
              "      cursor: pointer;\n",
              "      display: none;\n",
              "      fill: #1967D2;\n",
              "      height: 32px;\n",
              "      padding: 0 0 0 0;\n",
              "      width: 32px;\n",
              "    }\n",
              "\n",
              "    .colab-df-convert:hover {\n",
              "      background-color: #E2EBFA;\n",
              "      box-shadow: 0px 1px 2px rgba(60, 64, 67, 0.3), 0px 1px 3px 1px rgba(60, 64, 67, 0.15);\n",
              "      fill: #174EA6;\n",
              "    }\n",
              "\n",
              "    [theme=dark] .colab-df-convert {\n",
              "      background-color: #3B4455;\n",
              "      fill: #D2E3FC;\n",
              "    }\n",
              "\n",
              "    [theme=dark] .colab-df-convert:hover {\n",
              "      background-color: #434B5C;\n",
              "      box-shadow: 0px 1px 3px 1px rgba(0, 0, 0, 0.15);\n",
              "      filter: drop-shadow(0px 1px 2px rgba(0, 0, 0, 0.3));\n",
              "      fill: #FFFFFF;\n",
              "    }\n",
              "  </style>\n",
              "\n",
              "      <script>\n",
              "        const buttonEl =\n",
              "          document.querySelector('#df-970d741f-cab6-4165-8373-69fcc4c8bda4 button.colab-df-convert');\n",
              "        buttonEl.style.display =\n",
              "          google.colab.kernel.accessAllowed ? 'block' : 'none';\n",
              "\n",
              "        async function convertToInteractive(key) {\n",
              "          const element = document.querySelector('#df-970d741f-cab6-4165-8373-69fcc4c8bda4');\n",
              "          const dataTable =\n",
              "            await google.colab.kernel.invokeFunction('convertToInteractive',\n",
              "                                                     [key], {});\n",
              "          if (!dataTable) return;\n",
              "\n",
              "          const docLinkHtml = 'Like what you see? Visit the ' +\n",
              "            '<a target=\"_blank\" href=https://colab.research.google.com/notebooks/data_table.ipynb>data table notebook</a>'\n",
              "            + ' to learn more about interactive tables.';\n",
              "          element.innerHTML = '';\n",
              "          dataTable['output_type'] = 'display_data';\n",
              "          await google.colab.output.renderOutput(dataTable, element);\n",
              "          const docLink = document.createElement('div');\n",
              "          docLink.innerHTML = docLinkHtml;\n",
              "          element.appendChild(docLink);\n",
              "        }\n",
              "      </script>\n",
              "    </div>\n",
              "  </div>\n",
              "  "
            ]
          },
          "metadata": {},
          "execution_count": 48
        }
      ]
    },
    {
      "cell_type": "markdown",
      "source": [
        "Ahora vamos a calcular el intervalo de confianza para la media del ataque de los pokemon de tipo Normal y de tipo agua que no sean legendarios"
      ],
      "metadata": {
        "id": "cwsIU6uvXgoh"
      }
    },
    {
      "cell_type": "markdown",
      "source": [
        "Primero calculamos las medias de cada grupo"
      ],
      "metadata": {
        "id": "Pp8e6SK7Xx5a"
      }
    },
    {
      "cell_type": "code",
      "source": [
        "# Media de ataque de tipo normal \n",
        "normal_atck = normal_df['Attack'].mean()\n",
        "water_atck = water_df['Attack'].mean()\n",
        "\n",
        "print(normal_atck)\n",
        "print(water_atck)"
      ],
      "metadata": {
        "colab": {
          "base_uri": "https://localhost:8080/"
        },
        "id": "FT8Fcz85YJlK",
        "outputId": "5d68b622-7f3f-4187-b4f0-bc3e5c120d21"
      },
      "execution_count": null,
      "outputs": [
        {
          "output_type": "stream",
          "name": "stdout",
          "text": [
            "70.8586956521739\n",
            "70.2621359223301\n"
          ]
        }
      ]
    },
    {
      "cell_type": "markdown",
      "source": [
        "Ahora vamos a ver las funciones de densidad de probablidad para el ataque de los dos tipos de Pokemon que hemos escogido"
      ],
      "metadata": {
        "id": "VTEPsln4ahgH"
      }
    },
    {
      "cell_type": "code",
      "source": [
        "normal_df['Attack'].plot(kind=\"density\",  # Plot sample mean density\n",
        "                                   figsize=(9,9),\n",
        "                                   xlim=(0,150));  \n",
        "\n",
        "water_df['Attack'].plot(kind=\"density\",  # Plot sample mean density\n",
        "                                   figsize=(9,9),\n",
        "                                   xlim=(0,150));                         "
      ],
      "metadata": {
        "colab": {
          "base_uri": "https://localhost:8080/",
          "height": 537
        },
        "id": "R0HqSK-HaA5p",
        "outputId": "770ae807-772e-43e7-8d6c-e4a630e067ae"
      },
      "execution_count": null,
      "outputs": [
        {
          "output_type": "display_data",
          "data": {
            "text/plain": [
              "<Figure size 648x648 with 1 Axes>"
            ],
            "image/png": "[encoded data removed]"
          },
          "metadata": {
            "needs_background": "light"
          }
        }
      ]
    },
    {
      "cell_type": "markdown",
      "source": [
        "A juzgar por la forma de la función de densidad vemos que las dos variables parecen seguir una distribución normal con media entorno a 70, como hemos calculado antes"
      ],
      "metadata": {
        "id": "HOLgNmvza8fN"
      }
    },
    {
      "cell_type": "code",
      "source": [
        "normal_std = normal_df['Attack'].std(ddof=1)\n",
        "water_std = water_df['Attack'].std(ddof=1)\n",
        "\n",
        "print(normal_std)\n",
        "print(water_std)\n",
        "\n",
        "sigma_normal = normal_std/math.sqrt(normal_df.shape[0])\n",
        "sigma_water = water_std/math.sqrt(water_df.shape[0])\n",
        "\n",
        "print(sigma_normal)\n",
        "print(sigma_water)"
      ],
      "metadata": {
        "colab": {
          "base_uri": "https://localhost:8080/"
        },
        "id": "9IJBu37ycL6G",
        "outputId": "91e2e945-4cb0-45dc-ec3b-b28c77198277"
      },
      "execution_count": null,
      "outputs": [
        {
          "output_type": "stream",
          "name": "stdout",
          "text": [
            "28.12084656383577\n",
            "24.623423076829905\n",
            "2.93180092202356\n",
            "2.426217968622681\n"
          ]
        }
      ]
    },
    {
      "cell_type": "markdown",
      "source": [
        "Calculamos el intervalo de confianza para la media de los pokemon de tipo normal"
      ],
      "metadata": {
        "id": "ehu9967_dHvl"
      }
    },
    {
      "cell_type": "code",
      "source": [
        "scipy.stats.t.interval(alpha = 0.95,               # Confidence level\n",
        "                 df= normal_df.shape[0] - 1,       # Degrees of freedom = N - 1\n",
        "                 loc = normal_atck,                # Sample mean\n",
        "                 scale = sigma_normal)             # Standard deviation estimate"
      ],
      "metadata": {
        "colab": {
          "base_uri": "https://localhost:8080/"
        },
        "id": "fZWQi8THer_5",
        "outputId": "e72725ab-b86e-4477-c6ee-3649c6347b2f"
      },
      "execution_count": null,
      "outputs": [
        {
          "output_type": "stream",
          "name": "stderr",
          "text": [
            "<ipython-input-62-cb2bfeddc0c8>:1: DeprecationWarning: Use of keyword argument 'alpha' for method 'interval' is deprecated and wil be removed in SciPy 1.11.0. Use first positional argument or keyword argument 'confidence' instead.\n",
            "  scipy.stats.t.interval(alpha = 0.95,               # Confidence level\n"
          ]
        },
        {
          "output_type": "execute_result",
          "data": {
            "text/plain": [
              "(65.03503327971045, 76.68235802463737)"
            ]
          },
          "metadata": {},
          "execution_count": 62
        }
      ]
    },
    {
      "cell_type": "markdown",
      "source": [
        "Calculamos el intervalo de confianza para los Pokemon de tipo Agua"
      ],
      "metadata": {
        "id": "ZLaXEkYrgSbD"
      }
    },
    {
      "cell_type": "code",
      "source": [
        "scipy.stats.t.interval(alpha = 0.95,               # Confidence level\n",
        "                 df= water_df.shape[0] - 1,       # Degrees of freedom = N - 1\n",
        "                 loc = water_atck,                # Sample mean\n",
        "                 scale = sigma_water)             # Standard deviation estimate"
      ],
      "metadata": {
        "colab": {
          "base_uri": "https://localhost:8080/"
        },
        "id": "Ou6vbPiriggP",
        "outputId": "04a067d0-9af1-4167-c626-42b05c199919"
      },
      "execution_count": null,
      "outputs": [
        {
          "output_type": "stream",
          "name": "stderr",
          "text": [
            "<ipython-input-64-6df656da7865>:1: DeprecationWarning: Use of keyword argument 'alpha' for method 'interval' is deprecated and wil be removed in SciPy 1.11.0. Use first positional argument or keyword argument 'confidence' instead.\n",
            "  scipy.stats.t.interval(alpha = 0.95,               # Confidence level\n"
          ]
        },
        {
          "output_type": "execute_result",
          "data": {
            "text/plain": [
              "(65.44974408548936, 75.07452775917085)"
            ]
          },
          "metadata": {},
          "execution_count": 64
        }
      ]
    },
    {
      "cell_type": "markdown",
      "source": [],
      "metadata": {
        "id": "efmmqZ0TiMN_"
      }
    },
    {
      "cell_type": "markdown",
      "source": [
        "Viendo el intervalo de confianza obtenido y las medias calculadas podemos asegurar con una certeza del 95 % que el valor de la media de los pokemon de toda la población de no legendarios se encontrará dentro de este rango."
      ],
      "metadata": {
        "id": "W7-U1PkchD-n"
      }
    },
    {
      "cell_type": "code",
      "source": [
        "non_legendary_df['Attack'].mean()"
      ],
      "metadata": {
        "colab": {
          "base_uri": "https://localhost:8080/"
        },
        "id": "JLIOov5ViPhQ",
        "outputId": "df690a91-1272-4311-aa50-b284bb87bd36"
      },
      "execution_count": null,
      "outputs": [
        {
          "output_type": "execute_result",
          "data": {
            "text/plain": [
              "72.8121387283237"
            ]
          },
          "metadata": {},
          "execution_count": 63
        }
      ]
    },
    {
      "cell_type": "markdown",
      "source": [
        "# T-test"
      ],
      "metadata": {
        "id": "4-g24hrLjUJ3"
      }
    },
    {
      "cell_type": "markdown",
      "source": [
        "## Contraste de hipotesis univariante para pokemon de tipo normal"
      ],
      "metadata": {
        "id": "1tEk-XUHo_T5"
      }
    },
    {
      "cell_type": "code",
      "source": [
        "scipy.stats.ttest_1samp(a = normal_df['Attack'],               # # Sample normal type data\n",
        "                 popmean = non_legendary_df['Attack'].mean())  # Pop mean"
      ],
      "metadata": {
        "colab": {
          "base_uri": "https://localhost:8080/"
        },
        "id": "HlbAFKE1pDyn",
        "outputId": "a55459f8-417d-407b-d245-5c58bc0dee2d"
      },
      "execution_count": null,
      "outputs": [
        {
          "output_type": "execute_result",
          "data": {
            "text/plain": [
              "TtestResult(statistic=-0.6662945841498368, pvalue=0.5069085080276416, df=91)"
            ]
          },
          "metadata": {},
          "execution_count": 72
        }
      ]
    },
    {
      "cell_type": "markdown",
      "source": [
        "Viendo el pvalor final obtenido, podemos decir que tenemos evidencia estadistica suficiente para afirmar que la media del ataque de los pokemon de tipo normal se parece a la media del ataque de los pokemon no legendarios"
      ],
      "metadata": {
        "id": "LOLvLwwrpseX"
      }
    },
    {
      "cell_type": "markdown",
      "source": [
        "## Contraste de hipotesis univariante para pokemon de tipo agua"
      ],
      "metadata": {
        "id": "bUDsH-Eipggd"
      }
    },
    {
      "cell_type": "code",
      "source": [
        "scipy.stats.ttest_1samp(a = water_df['Attack'],               # Sample water type data\n",
        "                 popmean = non_legendary_df['Attack'].mean())  # Pop mean"
      ],
      "metadata": {
        "colab": {
          "base_uri": "https://localhost:8080/"
        },
        "id": "GhIKuZ9CpjIF",
        "outputId": "95abcca3-132c-4b0f-f126-6cf9f3f39651"
      },
      "execution_count": null,
      "outputs": [
        {
          "output_type": "execute_result",
          "data": {
            "text/plain": [
              "TtestResult(statistic=-1.0510196688722035, pvalue=0.29573325335376965, df=102)"
            ]
          },
          "metadata": {},
          "execution_count": 73
        }
      ]
    },
    {
      "cell_type": "markdown",
      "source": [
        "Viendo el pvalor final obtenido, podemos decir que tenemos evidencia estadistica suficiente para afirmar que la media del ataque de los pokemon de tipo agua se parece a la media del ataque de los pokemon no legendarios, pero menos que la media del ataque de tipo normal"
      ],
      "metadata": {
        "id": "reBJX3J5qMrF"
      }
    },
    {
      "cell_type": "markdown",
      "source": [
        "## Contraste de hipotesis Bivariante para comparar medias de no legendarios de tipo normal y agua"
      ],
      "metadata": {
        "id": "ZbTaYFAro10k"
      }
    },
    {
      "cell_type": "code",
      "source": [
        "scipy.stats.ttest_ind(a= normal_df['Attack'],\n",
        "                b= water_df['Attack'],\n",
        "                equal_var=False)    # Assume samples have equal variance?\n",
        "\n",
        "# No tenenmos evidencia estadistica suficiente para decir que el grupo de Wisconssin es diferente del grupo de Minnesota al 95%"
      ],
      "metadata": {
        "colab": {
          "base_uri": "https://localhost:8080/"
        },
        "id": "gahi8RgPmnZq",
        "outputId": "38763e20-e4cd-4294-a32a-1ab0baf689fc"
      },
      "execution_count": null,
      "outputs": [
        {
          "output_type": "execute_result",
          "data": {
            "text/plain": [
              "Ttest_indResult(statistic=0.1567616433604365, pvalue=0.8756063511036253)"
            ]
          },
          "metadata": {},
          "execution_count": 70
        }
      ]
    },
    {
      "cell_type": "markdown",
      "source": [
        "Viendo el pvalor final obtenido, podemos decir que tenemos evidencia estadistica suficiente para afirmar que la media del ataque de los pokemon de tipo normal se parece a la media del ataque de los pokemon de tipo agua."
      ],
      "metadata": {
        "id": "w9p4gbfknBQZ"
      }
    },
    {
      "cell_type": "markdown",
      "source": [
        "# Test ANOVA"
      ],
      "metadata": {
        "id": "70f0S4h_oq_z"
      }
    },
    {
      "cell_type": "markdown",
      "source": [
        "- Comprobación de poblaciones normalmente distribuidas en cada grupo\n",
        "- Homecedasticidad de varianzas entre grupos\n",
        "- Mustras aleatorias e independientes"
      ],
      "metadata": {
        "id": "WtBZCQPPF64s"
      }
    },
    {
      "cell_type": "markdown",
      "source": [
        "Comprobamos que la densidad de probabilidad por cada grupo para ver si siguen  una distribución normal"
      ],
      "metadata": {
        "id": "XM8fNZ2OGZEC"
      }
    },
    {
      "cell_type": "code",
      "source": [
        "# Formateamos el nombre de la columna de tipo\n",
        "\n",
        "non_legendary_df = non_legendary_df.rename(columns={'Type 1': 'Type'})"
      ],
      "metadata": {
        "id": "xq8YuMAxD-A5"
      },
      "execution_count": null,
      "outputs": []
    },
    {
      "cell_type": "code",
      "source": [
        "# Sacamos todos los tipos de pokemon no legendarios\n",
        "\n",
        "types = non_legendary_df['Type'].unique()\n",
        "\n",
        "types"
      ],
      "metadata": {
        "colab": {
          "base_uri": "https://localhost:8080/"
        },
        "id": "8ONiOeR5w3HP",
        "outputId": "330c5f3d-b26f-43e0-950b-ff3c2abe301d"
      },
      "execution_count": null,
      "outputs": [
        {
          "output_type": "execute_result",
          "data": {
            "text/plain": [
              "array(['Grass', 'Fire', 'Water', 'Bug', 'Normal', 'Poison', 'Electric',\n",
              "       'Ground', 'Fairy', 'Fighting', 'Psychic', 'Rock', 'Ghost', 'Ice',\n",
              "       'Dragon', 'Dark', 'Steel', 'Flying'], dtype=object)"
            ]
          },
          "metadata": {},
          "execution_count": 75
        }
      ]
    },
    {
      "cell_type": "code",
      "source": [
        "# Mostramos la distribución de provbbilidad del ataque según el tipo\n",
        "\n",
        "groups = non_legendary_df.groupby(\"Type\").groups\n",
        "\n",
        "for tipo in types:\n",
        "  tipo = non_legendary_df['Attack'][groups[tipo]]  \n",
        "\n",
        "  tipo.plot(kind=\"density\",  # Plot sample mean density\n",
        "                                   figsize=(12,12),\n",
        "                                   xlim=(0,170));  \n",
        "  \n",
        "# agregar leyenda y etiquetas de eje\n",
        "plt.legend(labels=types, loc='upper right')\n",
        "plt.xlabel('Ataque')\n",
        "plt.ylabel('Densidad de probabilidad')    \n",
        "\n",
        "\n"
      ],
      "metadata": {
        "colab": {
          "base_uri": "https://localhost:8080/",
          "height": 731
        },
        "id": "Po4Gsl3VGLw6",
        "outputId": "ed89cab3-4a4b-4817-bccb-7475801fed57"
      },
      "execution_count": null,
      "outputs": [
        {
          "output_type": "execute_result",
          "data": {
            "text/plain": [
              "Text(0, 0.5, 'Densidad de probabilidad')"
            ]
          },
          "metadata": {},
          "execution_count": 109
        },
        {
          "output_type": "display_data",
          "data": {
            "text/plain": [
              "<Figure size 864x864 with 1 Axes>"
            ],
            "image/png": "[encoded data removed]"
          },
          "metadata": {
            "needs_background": "light"
          }
        }
      ]
    },
    {
      "cell_type": "markdown",
      "source": [
        "A simple vista podriamos decir que la mayoría de tipos de pokemon tienen un ataque que sigue una distribución nornal"
      ],
      "metadata": {
        "id": "0ihg3qEDQI0E"
      }
    },
    {
      "cell_type": "markdown",
      "source": [
        "Homocedasticidad de varianzas entre grupos"
      ],
      "metadata": {
        "id": "XCyl7NUNQddt"
      }
    },
    {
      "cell_type": "code",
      "source": [
        "# Mostramos la distribución de provbbilidad del ataque según el tipo\n",
        "\n",
        "plt.figure(figsize=(15,15))\n",
        "sns.boxplot(x=\"Type\", y=\"Attack\", data=non_legendary_df)"
      ],
      "metadata": {
        "colab": {
          "base_uri": "https://localhost:8080/",
          "height": 894
        },
        "id": "xLidLO753gV2",
        "outputId": "30ddf3ea-1a65-4eed-ffde-5785ac75015c"
      },
      "execution_count": null,
      "outputs": [
        {
          "output_type": "execute_result",
          "data": {
            "text/plain": [
              "<AxesSubplot:xlabel='Type', ylabel='Attack'>"
            ]
          },
          "metadata": {},
          "execution_count": 120
        },
        {
          "output_type": "display_data",
          "data": {
            "text/plain": [
              "<Figure size 1080x1080 with 1 Axes>"
            ],
            "image/png": "[encoded data removed]"
          },
          "metadata": {
            "needs_background": "light"
          }
        }
      ]
    },
    {
      "cell_type": "markdown",
      "source": [
        "Comprobamos que la variabilidad de los datos para cada tipo de pokemon normalmente es muy parecida, salvo en algunos casos como el tipo roca o el tipo Volador presentan una variabilidad distinta a la que se observa en la mayoría de tipos"
      ],
      "metadata": {
        "id": "PPy1Mz7IVpvq"
      }
    },
    {
      "cell_type": "markdown",
      "source": [
        "ANOVA Test"
      ],
      "metadata": {
        "id": "J140j2AYDCpq"
      }
    },
    {
      "cell_type": "code",
      "source": [
        "import statsmodels.api as sm\n",
        "from statsmodels.formula.api import ols\n",
        "\n",
        "# Alternate method\n",
        "model = ols('Attack ~ Type',                 # Model formula\n",
        "            data = non_legendary_df).fit()\n",
        "                \n",
        "anova_result = sm.stats.anova_lm(model, typ=2)\n",
        "print (anova_result)\n"
      ],
      "metadata": {
        "colab": {
          "base_uri": "https://localhost:8080/"
        },
        "id": "sGk7wcBo4qns",
        "outputId": "4b6d262b-d48e-442a-8022-50cdea7388e4"
      },
      "execution_count": null,
      "outputs": [
        {
          "output_type": "stream",
          "name": "stdout",
          "text": [
            "                 sum_sq     df         F        PR(>F)\n",
            "Type       73656.166605   17.0  6.292512  7.578624e-14\n",
            "Residual  464083.411429  674.0       NaN           NaN\n"
          ]
        }
      ]
    },
    {
      "cell_type": "markdown",
      "source": [
        "Dado el valor de p, que es menor a 0.05, no tenemos evidencia estadistica para afirmar que la medias de ataque de cada tipo de Pokemon son parecidas. Con lo cual podemos afirmar que las media de ataque no es la misma para distintos tipos de Pokemon"
      ],
      "metadata": {
        "id": "i9V-ScQ6a427"
      }
    }
  ],
  "metadata": {
    "colab": {
      "provenance": []
    },
    "kernelspec": {
      "display_name": "Python 3",
      "language": "python",
      "name": "python3"
    },
    "language_info": {
      "codemirror_mode": {
        "name": "ipython",
        "version": 3
      },
      "file_extension": ".py",
      "mimetype": "text/x-python",
      "name": "python",
      "nbconvert_exporter": "python",
      "pygments_lexer": "ipython3",
      "version": "3.10.7"
    },
    "vscode": {
      "interpreter": {
        "hash": "c63d8c7d738c2960218a10995aedf0a7f67a49a231e71037adf0440953cdb45b"
      }
    }
  },
  "nbformat": 4,
  "nbformat_minor": 0
}